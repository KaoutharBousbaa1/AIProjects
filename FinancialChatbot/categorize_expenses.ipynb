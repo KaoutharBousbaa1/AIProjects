{
 "cells": [
  {
   "cell_type": "code",
   "execution_count": 7,
   "metadata": {},
   "outputs": [
    {
     "name": "stdout",
     "output_type": "stream",
     "text": [
      "Requirement already satisfied: langchain_community in c:\\users\\dell\\appdata\\local\\programs\\python\\python38-32\\lib\\site-packages (0.2.10)\n",
      "Requirement already satisfied: PyYAML>=5.3 in c:\\users\\dell\\appdata\\local\\programs\\python\\python38-32\\lib\\site-packages (from langchain_community) (6.0.1)\n",
      "Requirement already satisfied: SQLAlchemy<3,>=1.4 in c:\\users\\dell\\appdata\\local\\programs\\python\\python38-32\\lib\\site-packages (from langchain_community) (2.0.31)\n",
      "Requirement already satisfied: aiohttp<4.0.0,>=3.8.3 in c:\\users\\dell\\appdata\\local\\programs\\python\\python38-32\\lib\\site-packages (from langchain_community) (3.9.5)\n",
      "Requirement already satisfied: dataclasses-json<0.7,>=0.5.7 in c:\\users\\dell\\appdata\\local\\programs\\python\\python38-32\\lib\\site-packages (from langchain_community) (0.6.7)\n",
      "Requirement already satisfied: langchain<0.3.0,>=0.2.9 in c:\\users\\dell\\appdata\\local\\programs\\python\\python38-32\\lib\\site-packages (from langchain_community) (0.2.11)\n",
      "Requirement already satisfied: langchain-core<0.3.0,>=0.2.23 in c:\\users\\dell\\appdata\\local\\programs\\python\\python38-32\\lib\\site-packages (from langchain_community) (0.2.24)\n",
      "Requirement already satisfied: langsmith<0.2.0,>=0.1.0 in c:\\users\\dell\\appdata\\local\\programs\\python\\python38-32\\lib\\site-packages (from langchain_community) (0.1.94)\n",
      "Requirement already satisfied: numpy<2,>=1 in c:\\users\\dell\\appdata\\local\\programs\\python\\python38-32\\lib\\site-packages (from langchain_community) (1.24.4)\n",
      "Requirement already satisfied: requests<3,>=2 in c:\\users\\dell\\appdata\\local\\programs\\python\\python38-32\\lib\\site-packages (from langchain_community) (2.32.3)\n",
      "Requirement already satisfied: tenacity!=8.4.0,<9.0.0,>=8.1.0 in c:\\users\\dell\\appdata\\local\\programs\\python\\python38-32\\lib\\site-packages (from langchain_community) (8.5.0)\n",
      "Requirement already satisfied: aiosignal>=1.1.2 in c:\\users\\dell\\appdata\\local\\programs\\python\\python38-32\\lib\\site-packages (from aiohttp<4.0.0,>=3.8.3->langchain_community) (1.3.1)\n",
      "Requirement already satisfied: attrs>=17.3.0 in c:\\users\\dell\\appdata\\local\\programs\\python\\python38-32\\lib\\site-packages (from aiohttp<4.0.0,>=3.8.3->langchain_community) (23.2.0)\n",
      "Requirement already satisfied: frozenlist>=1.1.1 in c:\\users\\dell\\appdata\\local\\programs\\python\\python38-32\\lib\\site-packages (from aiohttp<4.0.0,>=3.8.3->langchain_community) (1.4.1)\n",
      "Requirement already satisfied: multidict<7.0,>=4.5 in c:\\users\\dell\\appdata\\local\\programs\\python\\python38-32\\lib\\site-packages (from aiohttp<4.0.0,>=3.8.3->langchain_community) (6.0.5)\n",
      "Requirement already satisfied: yarl<2.0,>=1.0 in c:\\users\\dell\\appdata\\local\\programs\\python\\python38-32\\lib\\site-packages (from aiohttp<4.0.0,>=3.8.3->langchain_community) (1.9.4)\n",
      "Requirement already satisfied: async-timeout<5.0,>=4.0 in c:\\users\\dell\\appdata\\local\\programs\\python\\python38-32\\lib\\site-packages (from aiohttp<4.0.0,>=3.8.3->langchain_community) (4.0.3)\n",
      "Requirement already satisfied: marshmallow<4.0.0,>=3.18.0 in c:\\users\\dell\\appdata\\local\\programs\\python\\python38-32\\lib\\site-packages (from dataclasses-json<0.7,>=0.5.7->langchain_community) (3.21.3)\n",
      "Requirement already satisfied: typing-inspect<1,>=0.4.0 in c:\\users\\dell\\appdata\\local\\programs\\python\\python38-32\\lib\\site-packages (from dataclasses-json<0.7,>=0.5.7->langchain_community) (0.9.0)\n",
      "Requirement already satisfied: langchain-text-splitters<0.3.0,>=0.2.0 in c:\\users\\dell\\appdata\\local\\programs\\python\\python38-32\\lib\\site-packages (from langchain<0.3.0,>=0.2.9->langchain_community) (0.2.2)\n",
      "Requirement already satisfied: pydantic<3,>=1 in c:\\users\\dell\\appdata\\local\\programs\\python\\python38-32\\lib\\site-packages (from langchain<0.3.0,>=0.2.9->langchain_community) (2.8.2)\n",
      "Requirement already satisfied: jsonpatch<2.0,>=1.33 in c:\\users\\dell\\appdata\\local\\programs\\python\\python38-32\\lib\\site-packages (from langchain-core<0.3.0,>=0.2.23->langchain_community) (1.33)\n",
      "Requirement already satisfied: packaging<25,>=23.2 in c:\\users\\dell\\appdata\\roaming\\python\\python38\\site-packages (from langchain-core<0.3.0,>=0.2.23->langchain_community) (24.1)\n",
      "Requirement already satisfied: orjson<4.0.0,>=3.9.14 in c:\\users\\dell\\appdata\\local\\programs\\python\\python38-32\\lib\\site-packages (from langsmith<0.2.0,>=0.1.0->langchain_community) (3.10.6)\n",
      "Requirement already satisfied: charset-normalizer<4,>=2 in c:\\users\\dell\\appdata\\local\\programs\\python\\python38-32\\lib\\site-packages (from requests<3,>=2->langchain_community) (3.3.2)\n",
      "Requirement already satisfied: idna<4,>=2.5 in c:\\users\\dell\\appdata\\local\\programs\\python\\python38-32\\lib\\site-packages (from requests<3,>=2->langchain_community) (3.7)\n",
      "Requirement already satisfied: urllib3<3,>=1.21.1 in c:\\users\\dell\\appdata\\local\\programs\\python\\python38-32\\lib\\site-packages (from requests<3,>=2->langchain_community) (2.2.2)\n",
      "Requirement already satisfied: certifi>=2017.4.17 in c:\\users\\dell\\appdata\\local\\programs\\python\\python38-32\\lib\\site-packages (from requests<3,>=2->langchain_community) (2024.7.4)\n",
      "Requirement already satisfied: typing-extensions>=4.6.0 in c:\\users\\dell\\appdata\\roaming\\python\\python38\\site-packages (from SQLAlchemy<3,>=1.4->langchain_community) (4.12.2)\n",
      "Requirement already satisfied: greenlet!=0.4.17 in c:\\users\\dell\\appdata\\local\\programs\\python\\python38-32\\lib\\site-packages (from SQLAlchemy<3,>=1.4->langchain_community) (3.0.3)\n",
      "Requirement already satisfied: jsonpointer>=1.9 in c:\\users\\dell\\appdata\\local\\programs\\python\\python38-32\\lib\\site-packages (from jsonpatch<2.0,>=1.33->langchain-core<0.3.0,>=0.2.23->langchain_community) (3.0.0)\n",
      "Requirement already satisfied: annotated-types>=0.4.0 in c:\\users\\dell\\appdata\\local\\programs\\python\\python38-32\\lib\\site-packages (from pydantic<3,>=1->langchain<0.3.0,>=0.2.9->langchain_community) (0.7.0)\n",
      "Requirement already satisfied: pydantic-core==2.20.1 in c:\\users\\dell\\appdata\\local\\programs\\python\\python38-32\\lib\\site-packages (from pydantic<3,>=1->langchain<0.3.0,>=0.2.9->langchain_community) (2.20.1)\n",
      "Requirement already satisfied: mypy-extensions>=0.3.0 in c:\\users\\dell\\appdata\\local\\programs\\python\\python38-32\\lib\\site-packages (from typing-inspect<1,>=0.4.0->dataclasses-json<0.7,>=0.5.7->langchain_community) (1.0.0)\n",
      "Note: you may need to restart the kernel to use updated packages.\n"
     ]
    }
   ],
   "source": [
    "pip install langchain_community"
   ]
  },
  {
   "cell_type": "code",
   "execution_count": 8,
   "metadata": {},
   "outputs": [],
   "source": [
    "from langchain_community.llms import Ollama"
   ]
  },
  {
   "cell_type": "code",
   "execution_count": 9,
   "metadata": {},
   "outputs": [],
   "source": [
    "llm = Ollama(model=\"llama2\")"
   ]
  },
  {
   "cell_type": "code",
   "execution_count": 10,
   "metadata": {},
   "outputs": [
    {
     "data": {
      "text/plain": [
       "'\\nCertainly! Here are the categories for each of the expenses you provided:\\n\\n* Spotify AB by Adyen - Entertainment\\n* Beta Boulders Ams Amsterdam Nld - Sports\\n* Taxi Utrecht - Transportation\\n* Ministerie van Justitie en Veiligheid - Government\\n* Etos AMSTERDAM NLD - Retail\\n* Bistro Bar Amsterdam - Food and Beverage\\n\\nIs there anything else I can help you with?'"
      ]
     },
     "execution_count": 10,
     "metadata": {},
     "output_type": "execute_result"
    }
   ],
   "source": [
    "llm.invoke(\"Can you add an appropriate category next to each of the following expenses. Respond with a list of categories separated by commas. For example, Spotify AB by Adyen - \\\n",
    "Entertainment, Beta Boulders Ams Amsterdam Nld - Sports, etc.: \\\n",
    "Taxi Utrecht, Ministerie van Justitie en Veiligheid, Etos AMSTERDAM NLD, Bistro Bar Amsterdam\")"
   ]
  },
  {
   "cell_type": "code",
   "execution_count": 11,
   "metadata": {},
   "outputs": [
    {
     "name": "stdout",
     "output_type": "stream",
     "text": [
      "Requirement already satisfied: pandas in c:\\users\\dell\\appdata\\local\\programs\\python\\python38-32\\lib\\site-packages (2.0.3)\n",
      "Requirement already satisfied: python-dateutil>=2.8.2 in c:\\users\\dell\\appdata\\roaming\\python\\python38\\site-packages (from pandas) (2.9.0.post0)\n",
      "Requirement already satisfied: pytz>=2020.1 in c:\\users\\dell\\appdata\\local\\programs\\python\\python38-32\\lib\\site-packages (from pandas) (2024.1)\n",
      "Requirement already satisfied: tzdata>=2022.1 in c:\\users\\dell\\appdata\\local\\programs\\python\\python38-32\\lib\\site-packages (from pandas) (2024.1)\n",
      "Requirement already satisfied: numpy>=1.20.3 in c:\\users\\dell\\appdata\\local\\programs\\python\\python38-32\\lib\\site-packages (from pandas) (1.24.4)\n",
      "Requirement already satisfied: six>=1.5 in c:\\users\\dell\\appdata\\roaming\\python\\python38\\site-packages (from python-dateutil>=2.8.2->pandas) (1.16.0)\n",
      "Note: you may need to restart the kernel to use updated packages.\n"
     ]
    }
   ],
   "source": [
    "pip install pandas"
   ]
  },
  {
   "cell_type": "code",
   "execution_count": 12,
   "metadata": {},
   "outputs": [
    {
     "data": {
      "text/html": [
       "<div>\n",
       "<style scoped>\n",
       "    .dataframe tbody tr th:only-of-type {\n",
       "        vertical-align: middle;\n",
       "    }\n",
       "\n",
       "    .dataframe tbody tr th {\n",
       "        vertical-align: top;\n",
       "    }\n",
       "\n",
       "    .dataframe thead th {\n",
       "        text-align: right;\n",
       "    }\n",
       "</style>\n",
       "<table border=\"1\" class=\"dataframe\">\n",
       "  <thead>\n",
       "    <tr style=\"text-align: right;\">\n",
       "      <th></th>\n",
       "      <th>Date</th>\n",
       "      <th>Name / Description</th>\n",
       "      <th>Expense/Income</th>\n",
       "      <th>Amount (EUR)</th>\n",
       "    </tr>\n",
       "  </thead>\n",
       "  <tbody>\n",
       "    <tr>\n",
       "      <th>0</th>\n",
       "      <td>2023-11-04</td>\n",
       "      <td>Salary</td>\n",
       "      <td>Income</td>\n",
       "      <td>4.5</td>\n",
       "    </tr>\n",
       "    <tr>\n",
       "      <th>1</th>\n",
       "      <td>2023-11-05</td>\n",
       "      <td>YouTube Revenue</td>\n",
       "      <td>Income</td>\n",
       "      <td>1.2</td>\n",
       "    </tr>\n",
       "    <tr>\n",
       "      <th>2</th>\n",
       "      <td>2023-11-06</td>\n",
       "      <td>Anime Streaming Subscriptions</td>\n",
       "      <td>Expense</td>\n",
       "      <td>50.0</td>\n",
       "    </tr>\n",
       "    <tr>\n",
       "      <th>3</th>\n",
       "      <td>2023-11-07</td>\n",
       "      <td>Book Purchases</td>\n",
       "      <td>Expense</td>\n",
       "      <td>80.0</td>\n",
       "    </tr>\n",
       "    <tr>\n",
       "      <th>4</th>\n",
       "      <td>2023-11-08</td>\n",
       "      <td>Rent</td>\n",
       "      <td>Expense</td>\n",
       "      <td>1.2</td>\n",
       "    </tr>\n",
       "  </tbody>\n",
       "</table>\n",
       "</div>"
      ],
      "text/plain": [
       "         Date             Name / Description Expense/Income  Amount (EUR)\n",
       "0  2023-11-04                         Salary         Income           4.5\n",
       "1  2023-11-05                YouTube Revenue         Income           1.2\n",
       "2  2023-11-06  Anime Streaming Subscriptions        Expense          50.0\n",
       "3  2023-11-07                 Book Purchases        Expense          80.0\n",
       "4  2023-11-08                           Rent        Expense           1.2"
      ]
     },
     "execution_count": 12,
     "metadata": {},
     "output_type": "execute_result"
    }
   ],
   "source": [
    "# Read the transactions_2022_2023.csv file \n",
    "import pandas as pd\n",
    "df = pd.read_csv(\"transactions_2023_2024.csv\")\n",
    "df.head()"
   ]
  },
  {
   "cell_type": "code",
   "execution_count": 13,
   "metadata": {},
   "outputs": [
    {
     "data": {
      "text/plain": [
       "104"
      ]
     },
     "execution_count": 13,
     "metadata": {},
     "output_type": "execute_result"
    }
   ],
   "source": [
    "# Get unique transactions in the Name / Description column\n",
    "unique_transactions = df[\"Name / Description\"].unique()\n",
    "len(unique_transactions)"
   ]
  },
  {
   "cell_type": "code",
   "execution_count": 14,
   "metadata": {},
   "outputs": [
    {
     "data": {
      "text/plain": [
       "array(['YouTube Revenue', 'Anime Streaming Subscriptions',\n",
       "       'Book Purchases', 'Rent', 'Travel', 'Gym', 'Transportation',\n",
       "       'Miscellaneous', 'Gifts/Charity'], dtype=object)"
      ]
     },
     "execution_count": 14,
     "metadata": {},
     "output_type": "execute_result"
    }
   ],
   "source": [
    "unique_transactions[1:10]"
   ]
  },
  {
   "cell_type": "code",
   "execution_count": 15,
   "metadata": {},
   "outputs": [
    {
     "data": {
      "text/plain": [
       "[0, 30, 60, 90, 104]"
      ]
     },
     "execution_count": 15,
     "metadata": {},
     "output_type": "execute_result"
    }
   ],
   "source": [
    "# Get index list\n",
    "#https://stackoverflow.com/questions/47518609/for-loop-range-and-interval-how-to-include-last-step\n",
    "def hop(start, stop, step):\n",
    "    for i in range(start, stop, step):\n",
    "        yield i\n",
    "    yield stop\n",
    "\n",
    "index_list = list(hop(0, len(unique_transactions), 30))\n",
    "index_list"
   ]
  },
  {
   "cell_type": "code",
   "execution_count": 16,
   "metadata": {},
   "outputs": [],
   "source": [
    "def categorize_transactions(transaction_names, llm):\n",
    "    response = llm.invoke(\"Can you add an appropriate category to the following expenses. For example: YouTube Revenue - Business, Anime movie - Anime, etc.. Categories should be less than 4 words. \" + transaction_names)\n",
    "    response = response.split('\\n')\n",
    "\n",
    "    print(response)\n",
    "\n",
    "    # Put in dataframe\n",
    "    categories_df = pd.DataFrame({'Transaction vs category': response})\n",
    "    categories_df[['Transaction', 'Category']] = categories_df['Transaction vs category'].str.split(' - ', expand=True)\n",
    "    \n",
    "    return categories_df"
   ]
  },
  {
   "cell_type": "code",
   "execution_count": 17,
   "metadata": {},
   "outputs": [
    {
     "name": "stdout",
     "output_type": "stream",
     "text": [
      "['Of course! Here are the expenses you provided, along with an appropriate category for each one:', '', '1. YouTube Revenue - Business', '2. Anime movie - Anime', '3. Gaming console - Tech', '4. Monthly subscription boxes - Hobbies', '5. Sponsorship Deals - Business', '6. Anime streaming subscriptions - Anime', '7. Travel (monthly) - Travel', '', 'I hope this helps! Let me know if you need any further assistance.']\n"
     ]
    },
    {
     "data": {
      "text/html": [
       "<div>\n",
       "<style scoped>\n",
       "    .dataframe tbody tr th:only-of-type {\n",
       "        vertical-align: middle;\n",
       "    }\n",
       "\n",
       "    .dataframe tbody tr th {\n",
       "        vertical-align: top;\n",
       "    }\n",
       "\n",
       "    .dataframe thead th {\n",
       "        text-align: right;\n",
       "    }\n",
       "</style>\n",
       "<table border=\"1\" class=\"dataframe\">\n",
       "  <thead>\n",
       "    <tr style=\"text-align: right;\">\n",
       "      <th></th>\n",
       "      <th>Transaction vs category</th>\n",
       "      <th>Transaction</th>\n",
       "      <th>Category</th>\n",
       "    </tr>\n",
       "  </thead>\n",
       "  <tbody>\n",
       "    <tr>\n",
       "      <th>0</th>\n",
       "      <td>Of course! Here are the expenses you provided,...</td>\n",
       "      <td>Of course! Here are the expenses you provided,...</td>\n",
       "      <td>None</td>\n",
       "    </tr>\n",
       "    <tr>\n",
       "      <th>1</th>\n",
       "      <td></td>\n",
       "      <td></td>\n",
       "      <td>None</td>\n",
       "    </tr>\n",
       "    <tr>\n",
       "      <th>2</th>\n",
       "      <td>1. YouTube Revenue - Business</td>\n",
       "      <td>1. YouTube Revenue</td>\n",
       "      <td>Business</td>\n",
       "    </tr>\n",
       "    <tr>\n",
       "      <th>3</th>\n",
       "      <td>2. Anime movie - Anime</td>\n",
       "      <td>2. Anime movie</td>\n",
       "      <td>Anime</td>\n",
       "    </tr>\n",
       "    <tr>\n",
       "      <th>4</th>\n",
       "      <td>3. Gaming console - Tech</td>\n",
       "      <td>3. Gaming console</td>\n",
       "      <td>Tech</td>\n",
       "    </tr>\n",
       "    <tr>\n",
       "      <th>5</th>\n",
       "      <td>4. Monthly subscription boxes - Hobbies</td>\n",
       "      <td>4. Monthly subscription boxes</td>\n",
       "      <td>Hobbies</td>\n",
       "    </tr>\n",
       "    <tr>\n",
       "      <th>6</th>\n",
       "      <td>5. Sponsorship Deals - Business</td>\n",
       "      <td>5. Sponsorship Deals</td>\n",
       "      <td>Business</td>\n",
       "    </tr>\n",
       "    <tr>\n",
       "      <th>7</th>\n",
       "      <td>6. Anime streaming subscriptions - Anime</td>\n",
       "      <td>6. Anime streaming subscriptions</td>\n",
       "      <td>Anime</td>\n",
       "    </tr>\n",
       "    <tr>\n",
       "      <th>8</th>\n",
       "      <td>7. Travel (monthly) - Travel</td>\n",
       "      <td>7. Travel (monthly)</td>\n",
       "      <td>Travel</td>\n",
       "    </tr>\n",
       "    <tr>\n",
       "      <th>9</th>\n",
       "      <td></td>\n",
       "      <td></td>\n",
       "      <td>None</td>\n",
       "    </tr>\n",
       "    <tr>\n",
       "      <th>10</th>\n",
       "      <td>I hope this helps! Let me know if you need any...</td>\n",
       "      <td>I hope this helps! Let me know if you need any...</td>\n",
       "      <td>None</td>\n",
       "    </tr>\n",
       "  </tbody>\n",
       "</table>\n",
       "</div>"
      ],
      "text/plain": [
       "                              Transaction vs category  \\\n",
       "0   Of course! Here are the expenses you provided,...   \n",
       "1                                                       \n",
       "2                       1. YouTube Revenue - Business   \n",
       "3                              2. Anime movie - Anime   \n",
       "4                            3. Gaming console - Tech   \n",
       "5             4. Monthly subscription boxes - Hobbies   \n",
       "6                     5. Sponsorship Deals - Business   \n",
       "7            6. Anime streaming subscriptions - Anime   \n",
       "8                        7. Travel (monthly) - Travel   \n",
       "9                                                       \n",
       "10  I hope this helps! Let me know if you need any...   \n",
       "\n",
       "                                          Transaction  Category  \n",
       "0   Of course! Here are the expenses you provided,...      None  \n",
       "1                                                          None  \n",
       "2                                  1. YouTube Revenue  Business  \n",
       "3                                      2. Anime movie     Anime  \n",
       "4                                   3. Gaming console      Tech  \n",
       "5                       4. Monthly subscription boxes   Hobbies  \n",
       "6                                5. Sponsorship Deals  Business  \n",
       "7                    6. Anime streaming subscriptions     Anime  \n",
       "8                                 7. Travel (monthly)    Travel  \n",
       "9                                                          None  \n",
       "10  I hope this helps! Let me know if you need any...      None  "
      ]
     },
     "execution_count": 17,
     "metadata": {},
     "output_type": "execute_result"
    }
   ],
   "source": [
    "# Test out the function\n",
    "categorize_transactions('YouTube Revenue, Sponsorship Deals, Anime Streaming Subscriptions, Monthly Travel',\n",
    "                        llm)"
   ]
  },
  {
   "cell_type": "code",
   "execution_count": 20,
   "metadata": {},
   "outputs": [
    {
     "name": "stdout",
     "output_type": "stream",
     "text": [
      "['Sure! Here are the appropriate categories for each expense:', '', '1. Salary - Income', '2. YouTube Revenue - Business', '3. Anime Streaming Subscriptions - Entertainment', '4. Book Purchases - Entertainment', '5. Rent - Housing', '6. Travel - Transportation', '7. Gym - Health & Fitness', '8. Transportation - Transportation', '9. Miscellaneous - Miscellaneous', '10. Gifts/Charity - Charitable Contributions', '11. Home Office Supplies - Office', '12. Sponsorship Deals - Business', '13. Freelance Tech Projects - Business', '14. Tech Gadgets/Upgrades - Technology', '15. Food Delivery - Food & Beverage', '16. Rent/Mortgage - Housing', '17. Utilities - Utilities', '18. Anime movie - Entertainment', '19. Health & Fitness - Health & Fitness', '20. Software Subscriptions (e.g., for tech tools) - Technology', '21. YouTube Equipment (camera, microphone) - Technology', '22. Anime Merchandise - Shopping', '23. Book Club Membership - Entertainment', '24. Data Plan/Internet - Technology', '25. Conference/Workshop Fees - Business', '26. Monthly Salary - Income', '27. Miscellaneous Expenses - Miscellaneous', '28. Insurance (Health/Property) - Finance', '29. Streaming Services (Other than anime) - Entertainment', '30. Mobile Phone Plan - Communication', '', 'Note: Some expenses may fit into more than one category, but I have assigned them to the most relevant one based on their primary purpose.']\n",
      "['Of course! Here are the expenses you provided, categorized into 25 different categories:', '', '1. Dining Out (Restaurants/Cafes) - Food & Beverage', '2. Hobbies (Non-tech related) - Leisure', '3. Clothing & Accessories - Fashion', '4. Personal Care (Salon, etc.) - Grooming', '5. Savings/Investments - Financial Planning', '6. Full-Time Data Scientist Salary - Income', '7. YouTube Ad Revenue - Online Income', '8. Affiliate Marketing - Online Income', '9. Merchandise Sales - Online Income', '10. Monthly Travel - Travel', '11. Health & Fitness (Gym, Equipment) - Wellness', '12. Travel Insurance - Protection', '13. Online Courses (Tech/Personal Dev) - Learning', '14. Professional Memberships - Career Development', '15. Gaming Subscriptions - Entertainment', '16. Streaming Services (Netflix, etc.) - Entertainment', '17. Clothing/Apparel - Fashion', '18. Beauty/Personal Care - Grooming', '19. Software Subscriptions (Editing, etc.) - Technology', '20. Social Media Advertising - Online Marketing', '21. Equipment Rentals (Cameras, etc.) - Tools', '22. Pet Care (Food, Vet, etc.) - Pets', '23. Hobbies (DIY, Crafting) - Leisure', '24. Home Maintenance - Household', '25. Dining Out (Restaurants) - Food & Beverage', '', 'I hope this helps! Let me know if you have any other questions.']\n",
      "['Sure! Here are the appropriate categories for each of the expenses you listed:', '', '1. Travel Accessories - Travel', '2. Local Experiences/Tours - Travel', '3. Online Course Sales - Education', '4. Consulting Fees - Business', '5. Guest Speaking Engagements - Business', '6. Ad Revenue from Affiliate Links - Online Business', '7. Streaming Device Upgrades - Technology', '8. Tech Conferences - Business', '9. Monthly Cloud Storage Fees - Technology', '10. Data Recovery Services - Technology', '11. Subscription Boxes (Tech/Anime) - Hobbies', '12. Special Anime Merchandise - Hobbies', '13. Books (Rare Editions, Collectibles) - Hobbies', '14. Language Learning Tools - Education', '15. Travel Guides and Maps - Travel', '16. Travel Accommodation (Hotels) - Travel', '17. Frequent Flyer Membership - Travel', '18. Local Tours and Activities - Travel', '19. Travel Food and Beverages - Travel', '20. Professional Photography Equipment - Hobbies', '21. Tech Gadget Insurance - Technology', '22. VR Equipment - Technology', '23. Custom Computer Builds - Technology', '24. High-Speed Internet Upgrade - Technology', '25. Software Licenses (For Projects) - Business', '26. Mobile App Subscriptions - Online Business', '27. Memberships to Industry Groups - Business', '28. Language Classes (Local) - Education', '29. Personal Development Books - Self-Improvement', '30. Fitness Classes (Yoga, etc.) - Health and Wellness']\n",
      "['', 'Of course! Here are the appropriate categories for each expense:', '', '1. Home Decor and Upgrades - Home', '2. Car Insurance - Finance', '3. Car Fuel - Transportation', '4. Subscription to Premium Newsletters - Education', '5. Outdoor Equipment (Camping, Hiking) - Adventure', '6. Craft Supplies (DIY Projects) - Hobbies', '7. Music Lessons or Instruments - Entertainment', '8. Art Supplies (Drawing, Painting) - Creativity', '9. Gardening Supplies - Outdoors', '10. Event Tickets (Concerts, Sports) - Entertainment', '11. Seasonal Decorations - Home', '12. Custom Anime Art - Personal', '13. Pet Insurance - Pets', '14. Health Check-ups and Medical Expenses - Health']\n"
     ]
    }
   ],
   "source": [
    "# Intialise the categories_df_all dataframe\n",
    "categories_df_all = pd.DataFrame()\n",
    "\n",
    "# Loop through the index_list\n",
    "for i in range(0, len(index_list)-1):\n",
    "    transaction_names = unique_transactions[index_list[i]:index_list[i+1]]\n",
    "    transaction_names = ','.join(transaction_names)\n",
    "\n",
    "    categories_df = categorize_transactions(transaction_names, llm)\n",
    "    categories_df_all = pd.concat([categories_df_all, categories_df], ignore_index=True)"
   ]
  },
  {
   "cell_type": "code",
   "execution_count": 21,
   "metadata": {},
   "outputs": [
    {
     "data": {
      "text/html": [
       "<div>\n",
       "<style scoped>\n",
       "    .dataframe tbody tr th:only-of-type {\n",
       "        vertical-align: middle;\n",
       "    }\n",
       "\n",
       "    .dataframe tbody tr th {\n",
       "        vertical-align: top;\n",
       "    }\n",
       "\n",
       "    .dataframe thead th {\n",
       "        text-align: right;\n",
       "    }\n",
       "</style>\n",
       "<table border=\"1\" class=\"dataframe\">\n",
       "  <thead>\n",
       "    <tr style=\"text-align: right;\">\n",
       "      <th></th>\n",
       "      <th>Transaction vs category</th>\n",
       "      <th>Transaction</th>\n",
       "      <th>Category</th>\n",
       "    </tr>\n",
       "  </thead>\n",
       "  <tbody>\n",
       "    <tr>\n",
       "      <th>0</th>\n",
       "      <td>Sure! Here are the appropriate categories for ...</td>\n",
       "      <td>Sure! Here are the appropriate categories for ...</td>\n",
       "      <td>None</td>\n",
       "    </tr>\n",
       "    <tr>\n",
       "      <th>1</th>\n",
       "      <td></td>\n",
       "      <td></td>\n",
       "      <td>None</td>\n",
       "    </tr>\n",
       "    <tr>\n",
       "      <th>2</th>\n",
       "      <td>1. Salary - Income</td>\n",
       "      <td>1. Salary</td>\n",
       "      <td>Income</td>\n",
       "    </tr>\n",
       "    <tr>\n",
       "      <th>3</th>\n",
       "      <td>2. YouTube Revenue - Business</td>\n",
       "      <td>2. YouTube Revenue</td>\n",
       "      <td>Business</td>\n",
       "    </tr>\n",
       "    <tr>\n",
       "      <th>4</th>\n",
       "      <td>3. Anime Streaming Subscriptions - Entertainment</td>\n",
       "      <td>3. Anime Streaming Subscriptions</td>\n",
       "      <td>Entertainment</td>\n",
       "    </tr>\n",
       "    <tr>\n",
       "      <th>...</th>\n",
       "      <td>...</td>\n",
       "      <td>...</td>\n",
       "      <td>...</td>\n",
       "    </tr>\n",
       "    <tr>\n",
       "      <th>107</th>\n",
       "      <td>10. Event Tickets (Concerts, Sports) - Enterta...</td>\n",
       "      <td>10. Event Tickets (Concerts, Sports)</td>\n",
       "      <td>Entertainment</td>\n",
       "    </tr>\n",
       "    <tr>\n",
       "      <th>108</th>\n",
       "      <td>11. Seasonal Decorations - Home</td>\n",
       "      <td>11. Seasonal Decorations</td>\n",
       "      <td>Home</td>\n",
       "    </tr>\n",
       "    <tr>\n",
       "      <th>109</th>\n",
       "      <td>12. Custom Anime Art - Personal</td>\n",
       "      <td>12. Custom Anime Art</td>\n",
       "      <td>Personal</td>\n",
       "    </tr>\n",
       "    <tr>\n",
       "      <th>110</th>\n",
       "      <td>13. Pet Insurance - Pets</td>\n",
       "      <td>13. Pet Insurance</td>\n",
       "      <td>Pets</td>\n",
       "    </tr>\n",
       "    <tr>\n",
       "      <th>111</th>\n",
       "      <td>14. Health Check-ups and Medical Expenses - He...</td>\n",
       "      <td>14. Health Check-ups and Medical Expenses</td>\n",
       "      <td>Health</td>\n",
       "    </tr>\n",
       "  </tbody>\n",
       "</table>\n",
       "<p>112 rows × 3 columns</p>\n",
       "</div>"
      ],
      "text/plain": [
       "                               Transaction vs category  \\\n",
       "0    Sure! Here are the appropriate categories for ...   \n",
       "1                                                        \n",
       "2                                   1. Salary - Income   \n",
       "3                        2. YouTube Revenue - Business   \n",
       "4     3. Anime Streaming Subscriptions - Entertainment   \n",
       "..                                                 ...   \n",
       "107  10. Event Tickets (Concerts, Sports) - Enterta...   \n",
       "108                    11. Seasonal Decorations - Home   \n",
       "109                    12. Custom Anime Art - Personal   \n",
       "110                           13. Pet Insurance - Pets   \n",
       "111  14. Health Check-ups and Medical Expenses - He...   \n",
       "\n",
       "                                           Transaction       Category  \n",
       "0    Sure! Here are the appropriate categories for ...           None  \n",
       "1                                                                None  \n",
       "2                                            1. Salary         Income  \n",
       "3                                   2. YouTube Revenue       Business  \n",
       "4                     3. Anime Streaming Subscriptions  Entertainment  \n",
       "..                                                 ...            ...  \n",
       "107               10. Event Tickets (Concerts, Sports)  Entertainment  \n",
       "108                           11. Seasonal Decorations           Home  \n",
       "109                               12. Custom Anime Art       Personal  \n",
       "110                                  13. Pet Insurance           Pets  \n",
       "111          14. Health Check-ups and Medical Expenses         Health  \n",
       "\n",
       "[112 rows x 3 columns]"
      ]
     },
     "execution_count": 21,
     "metadata": {},
     "output_type": "execute_result"
    }
   ],
   "source": [
    "categories_df_all"
   ]
  },
  {
   "cell_type": "code",
   "execution_count": 22,
   "metadata": {},
   "outputs": [
    {
     "data": {
      "text/plain": [
       "array([None, 'Income', 'Business', 'Entertainment', 'Housing',\n",
       "       'Transportation', 'Health & Fitness', 'Miscellaneous',\n",
       "       'Charitable Contributions', 'Office', 'Technology',\n",
       "       'Food & Beverage', 'Utilities', 'Shopping', 'Finance',\n",
       "       'Communication', 'Leisure', 'Fashion', 'Grooming',\n",
       "       'Financial Planning', 'Online Income', 'Travel', 'Wellness',\n",
       "       'Protection', 'Learning', 'Career Development', 'Online Marketing',\n",
       "       'Tools', 'Pets', 'Household', 'Education', 'Online Business',\n",
       "       'Hobbies', 'Self-Improvement', 'Health and Wellness', 'Home',\n",
       "       'Adventure', 'Creativity', 'Outdoors', 'Personal', 'Health'],\n",
       "      dtype=object)"
      ]
     },
     "execution_count": 22,
     "metadata": {},
     "output_type": "execute_result"
    }
   ],
   "source": [
    "# Get unique categories in categories_df_all\n",
    "unique_categories = categories_df_all[\"Category\"].unique()\n",
    "unique_categories"
   ]
  },
  {
   "cell_type": "code",
   "execution_count": 23,
   "metadata": {},
   "outputs": [],
   "source": [
    "# Drop NA values\n",
    "categories_df_all = categories_df_all.dropna()"
   ]
  },
  {
   "cell_type": "code",
   "execution_count": 24,
   "metadata": {},
   "outputs": [
    {
     "name": "stderr",
     "output_type": "stream",
     "text": [
      "C:\\Users\\dell\\AppData\\Local\\Temp\\ipykernel_9100\\2440992137.py:2: SettingWithCopyWarning: \n",
      "A value is trying to be set on a copy of a slice from a DataFrame.\n",
      "Try using .loc[row_indexer,col_indexer] = value instead\n",
      "\n",
      "See the caveats in the documentation: https://pandas.pydata.org/pandas-docs/stable/user_guide/indexing.html#returning-a-view-versus-a-copy\n",
      "  categories_df_all['Transaction'] = categories_df_all['Transaction'].str.replace(r'\\d+\\.\\s+', '')\n"
     ]
    },
    {
     "data": {
      "text/html": [
       "<div>\n",
       "<style scoped>\n",
       "    .dataframe tbody tr th:only-of-type {\n",
       "        vertical-align: middle;\n",
       "    }\n",
       "\n",
       "    .dataframe tbody tr th {\n",
       "        vertical-align: top;\n",
       "    }\n",
       "\n",
       "    .dataframe thead th {\n",
       "        text-align: right;\n",
       "    }\n",
       "</style>\n",
       "<table border=\"1\" class=\"dataframe\">\n",
       "  <thead>\n",
       "    <tr style=\"text-align: right;\">\n",
       "      <th></th>\n",
       "      <th>Transaction vs category</th>\n",
       "      <th>Transaction</th>\n",
       "      <th>Category</th>\n",
       "    </tr>\n",
       "  </thead>\n",
       "  <tbody>\n",
       "    <tr>\n",
       "      <th>2</th>\n",
       "      <td>1. Salary - Income</td>\n",
       "      <td>1. Salary</td>\n",
       "      <td>Income</td>\n",
       "    </tr>\n",
       "    <tr>\n",
       "      <th>3</th>\n",
       "      <td>2. YouTube Revenue - Business</td>\n",
       "      <td>2. YouTube Revenue</td>\n",
       "      <td>Business</td>\n",
       "    </tr>\n",
       "    <tr>\n",
       "      <th>4</th>\n",
       "      <td>3. Anime Streaming Subscriptions - Entertainment</td>\n",
       "      <td>3. Anime Streaming Subscriptions</td>\n",
       "      <td>Entertainment</td>\n",
       "    </tr>\n",
       "    <tr>\n",
       "      <th>5</th>\n",
       "      <td>4. Book Purchases - Entertainment</td>\n",
       "      <td>4. Book Purchases</td>\n",
       "      <td>Entertainment</td>\n",
       "    </tr>\n",
       "    <tr>\n",
       "      <th>6</th>\n",
       "      <td>5. Rent - Housing</td>\n",
       "      <td>5. Rent</td>\n",
       "      <td>Housing</td>\n",
       "    </tr>\n",
       "    <tr>\n",
       "      <th>...</th>\n",
       "      <td>...</td>\n",
       "      <td>...</td>\n",
       "      <td>...</td>\n",
       "    </tr>\n",
       "    <tr>\n",
       "      <th>107</th>\n",
       "      <td>10. Event Tickets (Concerts, Sports) - Enterta...</td>\n",
       "      <td>10. Event Tickets (Concerts, Sports)</td>\n",
       "      <td>Entertainment</td>\n",
       "    </tr>\n",
       "    <tr>\n",
       "      <th>108</th>\n",
       "      <td>11. Seasonal Decorations - Home</td>\n",
       "      <td>11. Seasonal Decorations</td>\n",
       "      <td>Home</td>\n",
       "    </tr>\n",
       "    <tr>\n",
       "      <th>109</th>\n",
       "      <td>12. Custom Anime Art - Personal</td>\n",
       "      <td>12. Custom Anime Art</td>\n",
       "      <td>Personal</td>\n",
       "    </tr>\n",
       "    <tr>\n",
       "      <th>110</th>\n",
       "      <td>13. Pet Insurance - Pets</td>\n",
       "      <td>13. Pet Insurance</td>\n",
       "      <td>Pets</td>\n",
       "    </tr>\n",
       "    <tr>\n",
       "      <th>111</th>\n",
       "      <td>14. Health Check-ups and Medical Expenses - He...</td>\n",
       "      <td>14. Health Check-ups and Medical Expenses</td>\n",
       "      <td>Health</td>\n",
       "    </tr>\n",
       "  </tbody>\n",
       "</table>\n",
       "<p>99 rows × 3 columns</p>\n",
       "</div>"
      ],
      "text/plain": [
       "                               Transaction vs category  \\\n",
       "2                                   1. Salary - Income   \n",
       "3                        2. YouTube Revenue - Business   \n",
       "4     3. Anime Streaming Subscriptions - Entertainment   \n",
       "5                    4. Book Purchases - Entertainment   \n",
       "6                                    5. Rent - Housing   \n",
       "..                                                 ...   \n",
       "107  10. Event Tickets (Concerts, Sports) - Enterta...   \n",
       "108                    11. Seasonal Decorations - Home   \n",
       "109                    12. Custom Anime Art - Personal   \n",
       "110                           13. Pet Insurance - Pets   \n",
       "111  14. Health Check-ups and Medical Expenses - He...   \n",
       "\n",
       "                                   Transaction       Category  \n",
       "2                                    1. Salary         Income  \n",
       "3                           2. YouTube Revenue       Business  \n",
       "4             3. Anime Streaming Subscriptions  Entertainment  \n",
       "5                            4. Book Purchases  Entertainment  \n",
       "6                                      5. Rent        Housing  \n",
       "..                                         ...            ...  \n",
       "107       10. Event Tickets (Concerts, Sports)  Entertainment  \n",
       "108                   11. Seasonal Decorations           Home  \n",
       "109                       12. Custom Anime Art       Personal  \n",
       "110                          13. Pet Insurance           Pets  \n",
       "111  14. Health Check-ups and Medical Expenses         Health  \n",
       "\n",
       "[99 rows x 3 columns]"
      ]
     },
     "execution_count": 24,
     "metadata": {},
     "output_type": "execute_result"
    }
   ],
   "source": [
    "# Remove the numbering eg \"1. \" from Transaction column\n",
    "categories_df_all['Transaction'] = categories_df_all['Transaction'].str.replace(r'\\d+\\.\\s+', '')\n",
    "categories_df_all"
   ]
  },
  {
   "cell_type": "code",
   "execution_count": 25,
   "metadata": {},
   "outputs": [
    {
     "name": "stdout",
     "output_type": "stream",
     "text": [
      "         Date             Name / Description Expense/Income  Amount (EUR)  \\\n",
      "0  2023-11-04                         Salary         Income           4.5   \n",
      "1  2023-11-05                YouTube Revenue         Income           1.2   \n",
      "2  2023-11-06  Anime Streaming Subscriptions        Expense          50.0   \n",
      "3  2023-11-07                 Book Purchases        Expense          80.0   \n",
      "4  2023-11-08                           Rent        Expense           1.2   \n",
      "\n",
      "                            Transaction vs category  \\\n",
      "0                                1. Salary - Income   \n",
      "1                     2. YouTube Revenue - Business   \n",
      "2  3. Anime Streaming Subscriptions - Entertainment   \n",
      "3                 4. Book Purchases - Entertainment   \n",
      "4                                 5. Rent - Housing   \n",
      "\n",
      "                        Transaction       Category  \n",
      "0                         1. Salary         Income  \n",
      "1                2. YouTube Revenue       Business  \n",
      "2  3. Anime Streaming Subscriptions  Entertainment  \n",
      "3                 4. Book Purchases  Entertainment  \n",
      "4                           5. Rent        Housing  \n"
     ]
    }
   ],
   "source": [
    "# Merge the categories_df_all with the transactions_2023_2024.csv dataframe (df)\n",
    "df = pd.read_csv(\"transactions_2023_2024.csv\")\n",
    "# Reset the index of both DataFrames to ensure alignment by index\n",
    "df.reset_index(drop=True, inplace=True)\n",
    "categories_df_all.reset_index(drop=True, inplace=True)\n",
    "\n",
    "# Concatenate DataFrames horizontally (axis=1)\n",
    "df_combined = pd.concat([df, categories_df_all], axis=1)\n",
    "\n",
    "# Save the combined DataFrame to a new CSV file if needed\n",
    "df_combined.to_csv(\"combined_transactions_categories.csv\", index=False)\n",
    "\n",
    "# Display the first few rows of the combined DataFrame\n",
    "print(df_combined.head())"
   ]
  }
 ],
 "metadata": {
  "kernelspec": {
   "display_name": "Python 3",
   "language": "python",
   "name": "python3"
  },
  "language_info": {
   "codemirror_mode": {
    "name": "ipython",
    "version": 3
   },
   "file_extension": ".py",
   "mimetype": "text/x-python",
   "name": "python",
   "nbconvert_exporter": "python",
   "pygments_lexer": "ipython3",
   "version": "3.8.3"
  }
 },
 "nbformat": 4,
 "nbformat_minor": 2
}

{
 "cells": [
  {
   "cell_type": "code",
   "execution_count": 1,
   "metadata": {},
   "outputs": [
    {
     "name": "stdout",
     "output_type": "stream",
     "text": [
      "Collecting plotly\n",
      "  Downloading plotly-5.23.0-py3-none-any.whl.metadata (7.3 kB)\n",
      "Collecting panel\n",
      "  Downloading panel-1.4.5-py3-none-any.whl.metadata (25 kB)\n",
      "Requirement already satisfied: tenacity>=6.2.0 in c:\\users\\ep\\appdata\\local\\packages\\pythonsoftwarefoundation.python.3.9_qbz5n2kfra8p0\\localcache\\local-packages\\python39\\site-packages (from plotly) (8.5.0)\n",
      "Requirement already satisfied: packaging in c:\\users\\ep\\appdata\\local\\packages\\pythonsoftwarefoundation.python.3.9_qbz5n2kfra8p0\\localcache\\local-packages\\python39\\site-packages (from plotly) (24.1)\n",
      "Collecting bokeh<3.5.0,>=3.4.0 (from panel)\n",
      "  Downloading bokeh-3.4.3-py3-none-any.whl.metadata (12 kB)\n",
      "Collecting param<3.0,>=2.1.0 (from panel)\n",
      "  Downloading param-2.1.1-py3-none-any.whl.metadata (7.2 kB)\n",
      "Collecting pyviz-comms>=2.0.0 (from panel)\n",
      "  Downloading pyviz_comms-3.0.3-py3-none-any.whl.metadata (7.7 kB)\n",
      "Collecting xyzservices>=2021.09.1 (from panel)\n",
      "  Downloading xyzservices-2024.6.0-py3-none-any.whl.metadata (4.0 kB)\n",
      "Collecting markdown (from panel)\n",
      "  Downloading Markdown-3.6-py3-none-any.whl.metadata (7.0 kB)\n",
      "Requirement already satisfied: markdown-it-py in c:\\users\\ep\\appdata\\local\\packages\\pythonsoftwarefoundation.python.3.9_qbz5n2kfra8p0\\localcache\\local-packages\\python39\\site-packages (from panel) (3.0.0)\n",
      "Collecting linkify-it-py (from panel)\n",
      "  Downloading linkify_it_py-2.0.3-py3-none-any.whl.metadata (8.5 kB)\n",
      "Collecting mdit-py-plugins (from panel)\n",
      "  Downloading mdit_py_plugins-0.4.1-py3-none-any.whl.metadata (2.8 kB)\n",
      "Requirement already satisfied: requests in c:\\users\\ep\\appdata\\local\\packages\\pythonsoftwarefoundation.python.3.9_qbz5n2kfra8p0\\localcache\\local-packages\\python39\\site-packages (from panel) (2.32.3)\n",
      "Requirement already satisfied: tqdm>=4.48.0 in c:\\users\\ep\\appdata\\local\\packages\\pythonsoftwarefoundation.python.3.9_qbz5n2kfra8p0\\localcache\\local-packages\\python39\\site-packages (from panel) (4.66.5)\n",
      "Collecting bleach (from panel)\n",
      "  Downloading bleach-6.1.0-py3-none-any.whl.metadata (30 kB)\n",
      "Requirement already satisfied: typing-extensions in c:\\users\\ep\\appdata\\local\\packages\\pythonsoftwarefoundation.python.3.9_qbz5n2kfra8p0\\localcache\\local-packages\\python39\\site-packages (from panel) (4.12.2)\n",
      "Requirement already satisfied: pandas>=1.2 in c:\\users\\ep\\appdata\\local\\packages\\pythonsoftwarefoundation.python.3.9_qbz5n2kfra8p0\\localcache\\local-packages\\python39\\site-packages (from panel) (2.2.2)\n",
      "Requirement already satisfied: Jinja2>=2.9 in c:\\users\\ep\\appdata\\local\\packages\\pythonsoftwarefoundation.python.3.9_qbz5n2kfra8p0\\localcache\\local-packages\\python39\\site-packages (from bokeh<3.5.0,>=3.4.0->panel) (3.1.4)\n",
      "Requirement already satisfied: contourpy>=1.2 in c:\\users\\ep\\appdata\\local\\packages\\pythonsoftwarefoundation.python.3.9_qbz5n2kfra8p0\\localcache\\local-packages\\python39\\site-packages (from bokeh<3.5.0,>=3.4.0->panel) (1.2.1)\n",
      "Requirement already satisfied: numpy>=1.16 in c:\\users\\ep\\appdata\\local\\packages\\pythonsoftwarefoundation.python.3.9_qbz5n2kfra8p0\\localcache\\local-packages\\python39\\site-packages (from bokeh<3.5.0,>=3.4.0->panel) (1.26.4)\n",
      "Requirement already satisfied: pillow>=7.1.0 in c:\\users\\ep\\appdata\\local\\packages\\pythonsoftwarefoundation.python.3.9_qbz5n2kfra8p0\\localcache\\local-packages\\python39\\site-packages (from bokeh<3.5.0,>=3.4.0->panel) (10.4.0)\n",
      "Requirement already satisfied: PyYAML>=3.10 in c:\\users\\ep\\appdata\\local\\packages\\pythonsoftwarefoundation.python.3.9_qbz5n2kfra8p0\\localcache\\local-packages\\python39\\site-packages (from bokeh<3.5.0,>=3.4.0->panel) (6.0.2)\n",
      "Requirement already satisfied: tornado>=6.2 in c:\\users\\ep\\appdata\\local\\packages\\pythonsoftwarefoundation.python.3.9_qbz5n2kfra8p0\\localcache\\local-packages\\python39\\site-packages (from bokeh<3.5.0,>=3.4.0->panel) (6.4.1)\n",
      "Requirement already satisfied: python-dateutil>=2.8.2 in c:\\users\\ep\\appdata\\local\\packages\\pythonsoftwarefoundation.python.3.9_qbz5n2kfra8p0\\localcache\\local-packages\\python39\\site-packages (from pandas>=1.2->panel) (2.9.0.post0)\n",
      "Requirement already satisfied: pytz>=2020.1 in c:\\users\\ep\\appdata\\local\\packages\\pythonsoftwarefoundation.python.3.9_qbz5n2kfra8p0\\localcache\\local-packages\\python39\\site-packages (from pandas>=1.2->panel) (2024.1)\n",
      "Requirement already satisfied: tzdata>=2022.7 in c:\\users\\ep\\appdata\\local\\packages\\pythonsoftwarefoundation.python.3.9_qbz5n2kfra8p0\\localcache\\local-packages\\python39\\site-packages (from pandas>=1.2->panel) (2024.1)\n",
      "Requirement already satisfied: colorama in c:\\users\\ep\\appdata\\local\\packages\\pythonsoftwarefoundation.python.3.9_qbz5n2kfra8p0\\localcache\\local-packages\\python39\\site-packages (from tqdm>=4.48.0->panel) (0.4.6)\n",
      "Requirement already satisfied: six>=1.9.0 in c:\\users\\ep\\appdata\\local\\packages\\pythonsoftwarefoundation.python.3.9_qbz5n2kfra8p0\\localcache\\local-packages\\python39\\site-packages (from bleach->panel) (1.16.0)\n",
      "Collecting webencodings (from bleach->panel)\n",
      "  Downloading webencodings-0.5.1-py2.py3-none-any.whl.metadata (2.1 kB)\n",
      "Collecting uc-micro-py (from linkify-it-py->panel)\n",
      "  Downloading uc_micro_py-1.0.3-py3-none-any.whl.metadata (2.0 kB)\n",
      "Requirement already satisfied: importlib-metadata>=4.4 in c:\\users\\ep\\appdata\\local\\packages\\pythonsoftwarefoundation.python.3.9_qbz5n2kfra8p0\\localcache\\local-packages\\python39\\site-packages (from markdown->panel) (8.2.0)\n",
      "Requirement already satisfied: mdurl~=0.1 in c:\\users\\ep\\appdata\\local\\packages\\pythonsoftwarefoundation.python.3.9_qbz5n2kfra8p0\\localcache\\local-packages\\python39\\site-packages (from markdown-it-py->panel) (0.1.2)\n",
      "Requirement already satisfied: charset-normalizer<4,>=2 in c:\\users\\ep\\appdata\\local\\packages\\pythonsoftwarefoundation.python.3.9_qbz5n2kfra8p0\\localcache\\local-packages\\python39\\site-packages (from requests->panel) (3.3.2)\n",
      "Requirement already satisfied: idna<4,>=2.5 in c:\\users\\ep\\appdata\\local\\packages\\pythonsoftwarefoundation.python.3.9_qbz5n2kfra8p0\\localcache\\local-packages\\python39\\site-packages (from requests->panel) (3.7)\n",
      "Requirement already satisfied: urllib3<3,>=1.21.1 in c:\\users\\ep\\appdata\\local\\packages\\pythonsoftwarefoundation.python.3.9_qbz5n2kfra8p0\\localcache\\local-packages\\python39\\site-packages (from requests->panel) (2.2.2)\n",
      "Requirement already satisfied: certifi>=2017.4.17 in c:\\users\\ep\\appdata\\local\\packages\\pythonsoftwarefoundation.python.3.9_qbz5n2kfra8p0\\localcache\\local-packages\\python39\\site-packages (from requests->panel) (2024.7.4)\n",
      "Requirement already satisfied: zipp>=0.5 in c:\\users\\ep\\appdata\\local\\packages\\pythonsoftwarefoundation.python.3.9_qbz5n2kfra8p0\\localcache\\local-packages\\python39\\site-packages (from importlib-metadata>=4.4->markdown->panel) (3.19.2)\n",
      "Requirement already satisfied: MarkupSafe>=2.0 in c:\\users\\ep\\appdata\\local\\packages\\pythonsoftwarefoundation.python.3.9_qbz5n2kfra8p0\\localcache\\local-packages\\python39\\site-packages (from Jinja2>=2.9->bokeh<3.5.0,>=3.4.0->panel) (2.1.5)\n",
      "Downloading plotly-5.23.0-py3-none-any.whl (17.3 MB)\n",
      "   ---------------------------------------- 0.0/17.3 MB ? eta -:--:--\n",
      "    --------------------------------------- 0.3/17.3 MB ? eta -:--:--\n",
      "   - -------------------------------------- 0.5/17.3 MB 1.4 MB/s eta 0:00:12\n",
      "   -- ------------------------------------- 1.0/17.3 MB 2.0 MB/s eta 0:00:09\n",
      "   --- ------------------------------------ 1.6/17.3 MB 2.1 MB/s eta 0:00:08\n",
      "   ---- ----------------------------------- 2.1/17.3 MB 2.1 MB/s eta 0:00:08\n",
      "   ------ --------------------------------- 2.6/17.3 MB 2.3 MB/s eta 0:00:07\n",
      "   ------- -------------------------------- 3.4/17.3 MB 2.4 MB/s eta 0:00:06\n",
      "   --------- ------------------------------ 4.2/17.3 MB 2.5 MB/s eta 0:00:06\n",
      "   ---------- ----------------------------- 4.7/17.3 MB 2.5 MB/s eta 0:00:05\n",
      "   ------------ --------------------------- 5.2/17.3 MB 2.6 MB/s eta 0:00:05\n",
      "   ------------- -------------------------- 6.0/17.3 MB 2.7 MB/s eta 0:00:05\n",
      "   --------------- ------------------------ 6.6/17.3 MB 2.7 MB/s eta 0:00:05\n",
      "   --------------- ------------------------ 6.8/17.3 MB 2.6 MB/s eta 0:00:05\n",
      "   ---------------- ----------------------- 7.3/17.3 MB 2.5 MB/s eta 0:00:04\n",
      "   ------------------ --------------------- 7.9/17.3 MB 2.5 MB/s eta 0:00:04\n",
      "   ------------------- -------------------- 8.7/17.3 MB 2.6 MB/s eta 0:00:04\n",
      "   --------------------- ------------------ 9.2/17.3 MB 2.6 MB/s eta 0:00:04\n",
      "   ---------------------- ----------------- 10.0/17.3 MB 2.7 MB/s eta 0:00:03\n",
      "   ------------------------ --------------- 10.7/17.3 MB 2.7 MB/s eta 0:00:03\n",
      "   -------------------------- ------------- 11.5/17.3 MB 2.8 MB/s eta 0:00:03\n",
      "   ---------------------------- ----------- 12.3/17.3 MB 2.8 MB/s eta 0:00:02\n",
      "   ----------------------------- ---------- 12.8/17.3 MB 2.8 MB/s eta 0:00:02\n",
      "   ------------------------------ --------- 13.4/17.3 MB 2.8 MB/s eta 0:00:02\n",
      "   ------------------------------- -------- 13.6/17.3 MB 2.7 MB/s eta 0:00:02\n",
      "   -------------------------------- ------- 14.2/17.3 MB 2.7 MB/s eta 0:00:02\n",
      "   -------------------------------- ------- 14.2/17.3 MB 2.7 MB/s eta 0:00:02\n",
      "   --------------------------------- ------ 14.4/17.3 MB 2.6 MB/s eta 0:00:02\n",
      "   --------------------------------- ------ 14.7/17.3 MB 2.5 MB/s eta 0:00:02\n",
      "   --------------------------------- ------ 14.7/17.3 MB 2.5 MB/s eta 0:00:02\n",
      "   ---------------------------------- ----- 14.9/17.3 MB 2.3 MB/s eta 0:00:02\n",
      "   ---------------------------------- ----- 14.9/17.3 MB 2.3 MB/s eta 0:00:02\n",
      "   ----------------------------------- ---- 15.5/17.3 MB 2.3 MB/s eta 0:00:01\n",
      "   ------------------------------------- -- 16.3/17.3 MB 2.3 MB/s eta 0:00:01\n",
      "   -------------------------------------- - 16.8/17.3 MB 2.3 MB/s eta 0:00:01\n",
      "   ---------------------------------------  17.3/17.3 MB 2.3 MB/s eta 0:00:01\n",
      "   ---------------------------------------- 17.3/17.3 MB 2.3 MB/s eta 0:00:00\n",
      "Downloading panel-1.4.5-py3-none-any.whl (24.7 MB)\n",
      "   ---------------------------------------- 0.0/24.7 MB ? eta -:--:--\n",
      "    --------------------------------------- 0.5/24.7 MB 3.3 MB/s eta 0:00:08\n",
      "   - -------------------------------------- 1.0/24.7 MB 3.6 MB/s eta 0:00:07\n",
      "   -- ------------------------------------- 1.8/24.7 MB 2.8 MB/s eta 0:00:09\n",
      "   --- ------------------------------------ 2.1/24.7 MB 2.8 MB/s eta 0:00:09\n",
      "   ----- ---------------------------------- 3.1/24.7 MB 2.9 MB/s eta 0:00:08\n",
      "   ----- ---------------------------------- 3.7/24.7 MB 2.8 MB/s eta 0:00:08\n",
      "   ------ --------------------------------- 3.9/24.7 MB 2.9 MB/s eta 0:00:08\n",
      "   ------- -------------------------------- 4.5/24.7 MB 2.6 MB/s eta 0:00:08\n",
      "   -------- ------------------------------- 5.0/24.7 MB 2.7 MB/s eta 0:00:08\n",
      "   -------- ------------------------------- 5.5/24.7 MB 2.6 MB/s eta 0:00:08\n",
      "   --------- ------------------------------ 6.0/24.7 MB 2.5 MB/s eta 0:00:08\n",
      "   ---------- ----------------------------- 6.3/24.7 MB 2.5 MB/s eta 0:00:08\n",
      "   ----------- ---------------------------- 6.8/24.7 MB 2.4 MB/s eta 0:00:08\n",
      "   ----------- ---------------------------- 7.1/24.7 MB 2.4 MB/s eta 0:00:08\n",
      "   ------------ --------------------------- 7.6/24.7 MB 2.3 MB/s eta 0:00:08\n",
      "   ------------ --------------------------- 7.9/24.7 MB 2.3 MB/s eta 0:00:08\n",
      "   ------------- -------------------------- 8.4/24.7 MB 2.3 MB/s eta 0:00:08\n",
      "   -------------- ------------------------- 8.7/24.7 MB 2.3 MB/s eta 0:00:08\n",
      "   -------------- ------------------------- 9.2/24.7 MB 2.2 MB/s eta 0:00:07\n",
      "   --------------- ------------------------ 9.7/24.7 MB 2.3 MB/s eta 0:00:07\n",
      "   ---------------- ----------------------- 10.0/24.7 MB 2.2 MB/s eta 0:00:07\n",
      "   ---------------- ----------------------- 10.2/24.7 MB 2.2 MB/s eta 0:00:07\n",
      "   ----------------- ---------------------- 10.7/24.7 MB 2.1 MB/s eta 0:00:07\n",
      "   ----------------- ---------------------- 10.7/24.7 MB 2.1 MB/s eta 0:00:07\n",
      "   ----------------- ---------------------- 10.7/24.7 MB 2.1 MB/s eta 0:00:07\n",
      "   ----------------- ---------------------- 11.0/24.7 MB 2.0 MB/s eta 0:00:07\n",
      "   ------------------ --------------------- 11.3/24.7 MB 1.9 MB/s eta 0:00:07\n",
      "   ------------------ --------------------- 11.3/24.7 MB 1.9 MB/s eta 0:00:07\n",
      "   ------------------- -------------------- 11.8/24.7 MB 1.9 MB/s eta 0:00:07\n",
      "   ------------------- -------------------- 12.1/24.7 MB 1.9 MB/s eta 0:00:07\n",
      "   -------------------- ------------------- 12.6/24.7 MB 1.9 MB/s eta 0:00:07\n",
      "   --------------------- ------------------ 13.1/24.7 MB 1.9 MB/s eta 0:00:07\n",
      "   --------------------- ------------------ 13.4/24.7 MB 1.9 MB/s eta 0:00:07\n",
      "   --------------------- ------------------ 13.4/24.7 MB 1.9 MB/s eta 0:00:07\n",
      "   --------------------- ------------------ 13.4/24.7 MB 1.9 MB/s eta 0:00:07\n",
      "   ---------------------- ----------------- 13.9/24.7 MB 1.8 MB/s eta 0:00:07\n",
      "   ----------------------- ---------------- 14.4/24.7 MB 1.8 MB/s eta 0:00:06\n",
      "   ------------------------ --------------- 14.9/24.7 MB 1.8 MB/s eta 0:00:06\n",
      "   ------------------------- -------------- 15.5/24.7 MB 1.8 MB/s eta 0:00:06\n",
      "   ------------------------- -------------- 15.7/24.7 MB 1.8 MB/s eta 0:00:05\n",
      "   ------------------------- -------------- 16.0/24.7 MB 1.8 MB/s eta 0:00:05\n",
      "   ------------------------- -------------- 16.0/24.7 MB 1.8 MB/s eta 0:00:05\n",
      "   -------------------------- ------------- 16.3/24.7 MB 1.8 MB/s eta 0:00:05\n",
      "   -------------------------- ------------- 16.5/24.7 MB 1.7 MB/s eta 0:00:05\n",
      "   --------------------------- ------------ 16.8/24.7 MB 1.7 MB/s eta 0:00:05\n",
      "   --------------------------- ------------ 17.0/24.7 MB 1.7 MB/s eta 0:00:05\n",
      "   ---------------------------- ----------- 17.3/24.7 MB 1.7 MB/s eta 0:00:05\n",
      "   ---------------------------- ----------- 17.6/24.7 MB 1.7 MB/s eta 0:00:05\n",
      "   ---------------------------- ----------- 17.8/24.7 MB 1.7 MB/s eta 0:00:05\n",
      "   ----------------------------- ---------- 18.1/24.7 MB 1.7 MB/s eta 0:00:04\n",
      "   ----------------------------- ---------- 18.1/24.7 MB 1.7 MB/s eta 0:00:04\n",
      "   ----------------------------- ---------- 18.4/24.7 MB 1.6 MB/s eta 0:00:04\n",
      "   ------------------------------ --------- 18.6/24.7 MB 1.6 MB/s eta 0:00:04\n",
      "   ------------------------------- -------- 19.1/24.7 MB 1.6 MB/s eta 0:00:04\n",
      "   ------------------------------- -------- 19.4/24.7 MB 1.6 MB/s eta 0:00:04\n",
      "   -------------------------------- ------- 19.9/24.7 MB 1.6 MB/s eta 0:00:03\n",
      "   -------------------------------- ------- 19.9/24.7 MB 1.6 MB/s eta 0:00:03\n",
      "   --------------------------------- ------ 20.4/24.7 MB 1.6 MB/s eta 0:00:03\n",
      "   --------------------------------- ------ 20.4/24.7 MB 1.6 MB/s eta 0:00:03\n",
      "   --------------------------------- ------ 20.4/24.7 MB 1.6 MB/s eta 0:00:03\n",
      "   --------------------------------- ------ 20.4/24.7 MB 1.6 MB/s eta 0:00:03\n",
      "   --------------------------------- ------ 20.4/24.7 MB 1.6 MB/s eta 0:00:03\n",
      "   --------------------------------- ------ 20.4/24.7 MB 1.6 MB/s eta 0:00:03\n",
      "   --------------------------------- ------ 20.4/24.7 MB 1.6 MB/s eta 0:00:03\n",
      "   --------------------------------- ------ 20.4/24.7 MB 1.6 MB/s eta 0:00:03\n",
      "   --------------------------------- ------ 20.4/24.7 MB 1.6 MB/s eta 0:00:03\n",
      "   --------------------------------- ------ 20.4/24.7 MB 1.6 MB/s eta 0:00:03\n",
      "   ------------------------------------ --- 22.5/24.7 MB 1.5 MB/s eta 0:00:02\n",
      "   ------------------------------------ --- 22.5/24.7 MB 1.5 MB/s eta 0:00:02\n",
      "   ------------------------------------ --- 22.8/24.7 MB 1.5 MB/s eta 0:00:02\n",
      "   ------------------------------------ --- 22.8/24.7 MB 1.5 MB/s eta 0:00:02\n",
      "   ------------------------------------ --- 22.8/24.7 MB 1.5 MB/s eta 0:00:02\n",
      "   ------------------------------------- -- 23.1/24.7 MB 1.5 MB/s eta 0:00:02\n",
      "   ------------------------------------- -- 23.1/24.7 MB 1.5 MB/s eta 0:00:02\n",
      "   ------------------------------------- -- 23.1/24.7 MB 1.5 MB/s eta 0:00:02\n",
      "   ------------------------------------- -- 23.3/24.7 MB 1.4 MB/s eta 0:00:01\n",
      "   ------------------------------------- -- 23.3/24.7 MB 1.4 MB/s eta 0:00:01\n",
      "   -------------------------------------- - 23.6/24.7 MB 1.4 MB/s eta 0:00:01\n",
      "   -------------------------------------- - 23.9/24.7 MB 1.4 MB/s eta 0:00:01\n",
      "   ---------------------------------------  24.1/24.7 MB 1.4 MB/s eta 0:00:01\n",
      "   ---------------------------------------  24.1/24.7 MB 1.4 MB/s eta 0:00:01\n",
      "   ---------------------------------------  24.4/24.7 MB 1.4 MB/s eta 0:00:01\n",
      "   ---------------------------------------  24.6/24.7 MB 1.4 MB/s eta 0:00:01\n",
      "   ---------------------------------------  24.6/24.7 MB 1.4 MB/s eta 0:00:01\n",
      "   ---------------------------------------  24.6/24.7 MB 1.4 MB/s eta 0:00:01\n",
      "   ---------------------------------------- 24.7/24.7 MB 1.3 MB/s eta 0:00:00\n",
      "Downloading bokeh-3.4.3-py3-none-any.whl (7.0 MB)\n",
      "   ---------------------------------------- 0.0/7.0 MB ? eta -:--:--\n",
      "   - -------------------------------------- 0.3/7.0 MB ? eta -:--:--\n",
      "   - -------------------------------------- 0.3/7.0 MB ? eta -:--:--\n",
      "   - -------------------------------------- 0.3/7.0 MB ? eta -:--:--\n",
      "   ---- ----------------------------------- 0.8/7.0 MB 799.2 kB/s eta 0:00:08\n",
      "   ----- ---------------------------------- 1.0/7.0 MB 898.8 kB/s eta 0:00:07\n",
      "   ------- -------------------------------- 1.3/7.0 MB 1.1 MB/s eta 0:00:06\n",
      "   -------- ------------------------------- 1.6/7.0 MB 1.0 MB/s eta 0:00:06\n",
      "   ----------- ---------------------------- 2.1/7.0 MB 1.3 MB/s eta 0:00:04\n",
      "   ------------- -------------------------- 2.4/7.0 MB 1.3 MB/s eta 0:00:04\n",
      "   ---------------- ----------------------- 2.9/7.0 MB 1.4 MB/s eta 0:00:03\n",
      "   ------------------- -------------------- 3.4/7.0 MB 1.5 MB/s eta 0:00:03\n",
      "   -------------------- ------------------- 3.7/7.0 MB 1.5 MB/s eta 0:00:03\n",
      "   ---------------------- ----------------- 3.9/7.0 MB 1.5 MB/s eta 0:00:03\n",
      "   ----------------------- ---------------- 4.2/7.0 MB 1.5 MB/s eta 0:00:02\n",
      "   -------------------------- ------------- 4.7/7.0 MB 1.5 MB/s eta 0:00:02\n",
      "   ----------------------------- ---------- 5.2/7.0 MB 1.5 MB/s eta 0:00:02\n",
      "   ----------------------------- ---------- 5.2/7.0 MB 1.5 MB/s eta 0:00:02\n",
      "   ----------------------------- ---------- 5.2/7.0 MB 1.5 MB/s eta 0:00:02\n",
      "   ------------------------------- -------- 5.5/7.0 MB 1.4 MB/s eta 0:00:02\n",
      "   -------------------------------- ------- 5.8/7.0 MB 1.4 MB/s eta 0:00:01\n",
      "   -------------------------------- ------- 5.8/7.0 MB 1.4 MB/s eta 0:00:01\n",
      "   ---------------------------------- ----- 6.0/7.0 MB 1.3 MB/s eta 0:00:01\n",
      "   ---------------------------------- ----- 6.0/7.0 MB 1.3 MB/s eta 0:00:01\n",
      "   ---------------------------------- ----- 6.0/7.0 MB 1.3 MB/s eta 0:00:01\n",
      "   ----------------------------------- ---- 6.3/7.0 MB 1.2 MB/s eta 0:00:01\n",
      "   ------------------------------------- -- 6.6/7.0 MB 1.2 MB/s eta 0:00:01\n",
      "   -------------------------------------- - 6.8/7.0 MB 1.2 MB/s eta 0:00:01\n",
      "   -------------------------------------- - 6.8/7.0 MB 1.2 MB/s eta 0:00:01\n",
      "   ---------------------------------------- 7.0/7.0 MB 1.1 MB/s eta 0:00:00\n",
      "Downloading param-2.1.1-py3-none-any.whl (116 kB)\n",
      "Downloading pyviz_comms-3.0.3-py3-none-any.whl (83 kB)\n",
      "Downloading xyzservices-2024.6.0-py3-none-any.whl (83 kB)\n",
      "Downloading bleach-6.1.0-py3-none-any.whl (162 kB)\n",
      "Downloading linkify_it_py-2.0.3-py3-none-any.whl (19 kB)\n",
      "Downloading Markdown-3.6-py3-none-any.whl (105 kB)\n",
      "Downloading mdit_py_plugins-0.4.1-py3-none-any.whl (54 kB)\n",
      "Downloading uc_micro_py-1.0.3-py3-none-any.whl (6.2 kB)\n",
      "Downloading webencodings-0.5.1-py2.py3-none-any.whl (11 kB)\n",
      "Installing collected packages: webencodings, xyzservices, uc-micro-py, plotly, param, bleach, pyviz-comms, mdit-py-plugins, markdown, linkify-it-py, bokeh, panel\n",
      "Successfully installed bleach-6.1.0 bokeh-3.4.3 linkify-it-py-2.0.3 markdown-3.6 mdit-py-plugins-0.4.1 panel-1.4.5 param-2.1.1 plotly-5.23.0 pyviz-comms-3.0.3 uc-micro-py-1.0.3 webencodings-0.5.1 xyzservices-2024.6.0\n",
      "Note: you may need to restart the kernel to use updated packages.\n"
     ]
    }
   ],
   "source": [
    "pip install plotly panel"
   ]
  },
  {
   "cell_type": "code",
   "execution_count": 1,
   "metadata": {},
   "outputs": [],
   "source": [
    "import pandas as pd\n",
    "import numpy as np\n",
    "import plotly.express as px\n",
    "import panel as pn"
   ]
  },
  {
   "cell_type": "code",
   "execution_count": 19,
   "metadata": {},
   "outputs": [
    {
     "data": {
      "text/html": [
       "<div>\n",
       "<style scoped>\n",
       "    .dataframe tbody tr th:only-of-type {\n",
       "        vertical-align: middle;\n",
       "    }\n",
       "\n",
       "    .dataframe tbody tr th {\n",
       "        vertical-align: top;\n",
       "    }\n",
       "\n",
       "    .dataframe thead th {\n",
       "        text-align: right;\n",
       "    }\n",
       "</style>\n",
       "<table border=\"1\" class=\"dataframe\">\n",
       "  <thead>\n",
       "    <tr style=\"text-align: right;\">\n",
       "      <th></th>\n",
       "      <th>Date</th>\n",
       "      <th>Name / Description</th>\n",
       "      <th>Expense/Income</th>\n",
       "      <th>Amount</th>\n",
       "      <th>Category</th>\n",
       "      <th>Year</th>\n",
       "      <th>Month</th>\n",
       "      <th>Month Name</th>\n",
       "    </tr>\n",
       "  </thead>\n",
       "  <tbody>\n",
       "    <tr>\n",
       "      <th>0</th>\n",
       "      <td>07-31-2024</td>\n",
       "      <td>AplPay APPLE.COM/BILINTERNET CHARGE CA</td>\n",
       "      <td>Expense</td>\n",
       "      <td>30.21</td>\n",
       "      <td>Technology</td>\n",
       "      <td>2024</td>\n",
       "      <td>7</td>\n",
       "      <td>Jul</td>\n",
       "    </tr>\n",
       "    <tr>\n",
       "      <th>1</th>\n",
       "      <td>07-31-2024</td>\n",
       "      <td>BH* BETTERHELP MOUNTAIN VIEW CA</td>\n",
       "      <td>Expense</td>\n",
       "      <td>360.00</td>\n",
       "      <td>Internet Service Provider</td>\n",
       "      <td>2024</td>\n",
       "      <td>7</td>\n",
       "      <td>Jul</td>\n",
       "    </tr>\n",
       "    <tr>\n",
       "      <th>2</th>\n",
       "      <td>07-31-2024</td>\n",
       "      <td>LYFT 855-280-0278 CA</td>\n",
       "      <td>Expense</td>\n",
       "      <td>25.84</td>\n",
       "      <td>Mental Health</td>\n",
       "      <td>2024</td>\n",
       "      <td>7</td>\n",
       "      <td>Jul</td>\n",
       "    </tr>\n",
       "    <tr>\n",
       "      <th>3</th>\n",
       "      <td>07-31-2024</td>\n",
       "      <td>LYFT 855-280-0278 CA</td>\n",
       "      <td>Expense</td>\n",
       "      <td>33.95</td>\n",
       "      <td>Transportation</td>\n",
       "      <td>2024</td>\n",
       "      <td>7</td>\n",
       "      <td>Jul</td>\n",
       "    </tr>\n",
       "    <tr>\n",
       "      <th>4</th>\n",
       "      <td>07-30-2024</td>\n",
       "      <td>AplPay STANZA-VINYL San Francisco CA</td>\n",
       "      <td>Expense</td>\n",
       "      <td>9.75</td>\n",
       "      <td>Pharmacy</td>\n",
       "      <td>2024</td>\n",
       "      <td>7</td>\n",
       "      <td>Jul</td>\n",
       "    </tr>\n",
       "    <tr>\n",
       "      <th>...</th>\n",
       "      <td>...</td>\n",
       "      <td>...</td>\n",
       "      <td>...</td>\n",
       "      <td>...</td>\n",
       "      <td>...</td>\n",
       "      <td>...</td>\n",
       "      <td>...</td>\n",
       "      <td>...</td>\n",
       "    </tr>\n",
       "    <tr>\n",
       "      <th>135</th>\n",
       "      <td>08-01-2024</td>\n",
       "      <td>AplPay TRADER JOE'S SAN FRANCISCO CA</td>\n",
       "      <td>Expense</td>\n",
       "      <td>31.93</td>\n",
       "      <td>NaN</td>\n",
       "      <td>2024</td>\n",
       "      <td>8</td>\n",
       "      <td>Aug</td>\n",
       "    </tr>\n",
       "    <tr>\n",
       "      <th>136</th>\n",
       "      <td>08-01-2024</td>\n",
       "      <td>LYFT 855-280-0278 CA</td>\n",
       "      <td>Expense</td>\n",
       "      <td>9.59</td>\n",
       "      <td>NaN</td>\n",
       "      <td>2024</td>\n",
       "      <td>8</td>\n",
       "      <td>Aug</td>\n",
       "    </tr>\n",
       "    <tr>\n",
       "      <th>137</th>\n",
       "      <td>07-01-2024</td>\n",
       "      <td>AplPay JOE &amp; THE JUICE BURLINGAME CA</td>\n",
       "      <td>Expense</td>\n",
       "      <td>13.37</td>\n",
       "      <td>NaN</td>\n",
       "      <td>2024</td>\n",
       "      <td>7</td>\n",
       "      <td>Jul</td>\n",
       "    </tr>\n",
       "    <tr>\n",
       "      <th>138</th>\n",
       "      <td>07-01-2024</td>\n",
       "      <td>AplPay PIROO San Francisco CA</td>\n",
       "      <td>Expense</td>\n",
       "      <td>38.72</td>\n",
       "      <td>NaN</td>\n",
       "      <td>2024</td>\n",
       "      <td>7</td>\n",
       "      <td>Jul</td>\n",
       "    </tr>\n",
       "    <tr>\n",
       "      <th>139</th>\n",
       "      <td>07-01-2024</td>\n",
       "      <td>RICHMOND NEW MAY WAH SAN FRANCISCO CA</td>\n",
       "      <td>Expense</td>\n",
       "      <td>160.51</td>\n",
       "      <td>NaN</td>\n",
       "      <td>2024</td>\n",
       "      <td>7</td>\n",
       "      <td>Jul</td>\n",
       "    </tr>\n",
       "  </tbody>\n",
       "</table>\n",
       "<p>140 rows × 8 columns</p>\n",
       "</div>"
      ],
      "text/plain": [
       "           Date                      Name / Description Expense/Income  \\\n",
       "0    07-31-2024  AplPay APPLE.COM/BILINTERNET CHARGE CA        Expense   \n",
       "1    07-31-2024         BH* BETTERHELP MOUNTAIN VIEW CA        Expense   \n",
       "2    07-31-2024                    LYFT 855-280-0278 CA        Expense   \n",
       "3    07-31-2024                    LYFT 855-280-0278 CA        Expense   \n",
       "4    07-30-2024    AplPay STANZA-VINYL San Francisco CA        Expense   \n",
       "..          ...                                     ...            ...   \n",
       "135  08-01-2024    AplPay TRADER JOE'S SAN FRANCISCO CA        Expense   \n",
       "136  08-01-2024                    LYFT 855-280-0278 CA        Expense   \n",
       "137  07-01-2024    AplPay JOE & THE JUICE BURLINGAME CA        Expense   \n",
       "138  07-01-2024           AplPay PIROO San Francisco CA        Expense   \n",
       "139  07-01-2024   RICHMOND NEW MAY WAH SAN FRANCISCO CA        Expense   \n",
       "\n",
       "     Amount                   Category  Year  Month Month Name  \n",
       "0     30.21                 Technology  2024      7        Jul  \n",
       "1    360.00  Internet Service Provider  2024      7        Jul  \n",
       "2     25.84              Mental Health  2024      7        Jul  \n",
       "3     33.95             Transportation  2024      7        Jul  \n",
       "4      9.75                   Pharmacy  2024      7        Jul  \n",
       "..      ...                        ...   ...    ...        ...  \n",
       "135   31.93                        NaN  2024      8        Aug  \n",
       "136    9.59                        NaN  2024      8        Aug  \n",
       "137   13.37                        NaN  2024      7        Jul  \n",
       "138   38.72                        NaN  2024      7        Jul  \n",
       "139  160.51                        NaN  2024      7        Jul  \n",
       "\n",
       "[140 rows x 8 columns]"
      ]
     },
     "execution_count": 19,
     "metadata": {},
     "output_type": "execute_result"
    }
   ],
   "source": [
    "# Read transactions_2022_2023_categorized.csv\n",
    "df = pd.read_csv('combined_transactions_categories.csv')\n",
    "# Add year and month columns\n",
    "df['Year'] = pd.to_datetime(df['Date']).dt.year\n",
    "df['Month'] = pd.to_datetime(df['Date']).dt.month\n",
    "df['Month Name'] = pd.to_datetime(df['Date']).dt.strftime(\"%b\")\n",
    "# Remove \"Transaction\" and \"Transaction vs category\" columns\n",
    "df = df.drop(columns=['Transaction', 'Transaction vs category'])\n",
    "df"
   ]
  },
  {
   "cell_type": "code",
   "execution_count": 24,
   "metadata": {},
   "outputs": [
    {
     "name": "stdout",
     "output_type": "stream",
     "text": [
      "Error: Mime type rendering requires nbformat>=4.2.0 but it is not installed\n"
     ]
    }
   ],
   "source": [
    "import pandas as pd\n",
    "import plotly.express as px\n",
    "\n",
    "def make_pie_chart(df, year, label):\n",
    "    # Filter the dataset for the specified expense/income and year\n",
    "    sub_df = df[(df['Expense/Income'] == 'Expense') & (df['Year'] == year)]\n",
    "\n",
    "    # Remove NaN values from the 'Category' column\n",
    "    sub_df = sub_df.dropna(subset=['Category'])\n",
    "\n",
    "    # Check if the filtered dataframe is empty after removing NaN values\n",
    "    if sub_df.empty:\n",
    "        raise ValueError(f\"No data available for {label} in year {year}\")\n",
    "\n",
    "    color_scale = px.colors.qualitative.Set2\n",
    "    \n",
    "    pie_fig = px.pie(sub_df, values='Amount', names='Category', color_discrete_sequence=color_scale)\n",
    "    pie_fig.update_traces(textposition='inside', direction='clockwise', hole=0.3, textinfo=\"label+percent\")\n",
    "\n",
    "    # Ensure Amount (EUR) is numeric\n",
    "    sub_df['Amount'] = pd.to_numeric(sub_df['Amount'], errors='coerce')\n",
    "    total_expense = sub_df['Amount'].sum()\n",
    "\n",
    "    if pd.isna(total_expense):\n",
    "        raise ValueError(\"Total expense calculation returned NaN\")\n",
    "\n",
    "    total_text = \"€ \" + str(round(total_expense))\n",
    "\n",
    "    pie_fig.update_layout(\n",
    "        uniformtext_minsize=10,\n",
    "        uniformtext_mode='hide',\n",
    "        title=dict(text=label + \" Breakdown \" + str(year)),\n",
    "        annotations=[\n",
    "            dict(\n",
    "                text=total_text,\n",
    "                x=0.5, y=0.5, font_size=12,\n",
    "                showarrow=False\n",
    "            )\n",
    "        ]\n",
    "    )\n",
    "\n",
    "    return pie_fig\n",
    "\n",
    "# Example usage\n",
    "try:\n",
    "    expense_pie_fig_2024 = make_pie_chart(df, 2024, 'Expense')\n",
    "    expense_pie_fig_2024.show()  # Use .show() to display the figure\n",
    "except Exception as e:\n",
    "    print(f\"Error: {e}\")\n"
   ]
  },
  {
   "cell_type": "code",
   "execution_count": 25,
   "metadata": {},
   "outputs": [],
   "source": [
    "def make_monthly_bar_chart(df, year, label):\n",
    "    df = df[(df['Expense/Income'] == label) & (df['Year'] == year)]\n",
    "    total_by_month = (df.groupby(['Month', 'Month Name'])['Amount'].sum()\n",
    "                        .to_frame()\n",
    "                        .reset_index()\n",
    "                        .sort_values(by='Month')  \n",
    "                        .reset_index(drop=True))\n",
    "    if label == \"Income\":\n",
    "        color_scale = px.colors.sequential.YlGn\n",
    "    if label == \"Expense\":\n",
    "        color_scale = px.colors.sequential.OrRd\n",
    "    \n",
    "    bar_fig = px.bar(total_by_month, x='Month Name', y='Amount', text_auto='.2s', title=label+\" per month\", color='Amount', color_continuous_scale=color_scale)\n",
    "    # bar_fig.update_traces(marker_color='lightslategrey')\n",
    "    \n",
    "    return bar_fig"
   ]
  },
  {
   "cell_type": "code",
   "execution_count": 26,
   "metadata": {},
   "outputs": [
    {
     "ename": "ValueError",
     "evalue": "Mime type rendering requires nbformat>=4.2.0 but it is not installed",
     "output_type": "error",
     "traceback": [
      "\u001b[1;31m---------------------------------------------------------------------------\u001b[0m",
      "\u001b[1;31mValueError\u001b[0m                                Traceback (most recent call last)",
      "File \u001b[1;32m~\\AppData\\Local\\Packages\\PythonSoftwareFoundation.Python.3.9_qbz5n2kfra8p0\\LocalCache\\local-packages\\Python39\\site-packages\\IPython\\core\\formatters.py:922\u001b[0m, in \u001b[0;36mIPythonDisplayFormatter.__call__\u001b[1;34m(self, obj)\u001b[0m\n\u001b[0;32m    920\u001b[0m method \u001b[38;5;241m=\u001b[39m get_real_method(obj, \u001b[38;5;28mself\u001b[39m\u001b[38;5;241m.\u001b[39mprint_method)\n\u001b[0;32m    921\u001b[0m \u001b[38;5;28;01mif\u001b[39;00m method \u001b[38;5;129;01mis\u001b[39;00m \u001b[38;5;129;01mnot\u001b[39;00m \u001b[38;5;28;01mNone\u001b[39;00m:\n\u001b[1;32m--> 922\u001b[0m     \u001b[43mmethod\u001b[49m\u001b[43m(\u001b[49m\u001b[43m)\u001b[49m\n\u001b[0;32m    923\u001b[0m     \u001b[38;5;28;01mreturn\u001b[39;00m \u001b[38;5;28;01mTrue\u001b[39;00m\n",
      "File \u001b[1;32m~\\AppData\\Local\\Packages\\PythonSoftwareFoundation.Python.3.9_qbz5n2kfra8p0\\LocalCache\\local-packages\\Python39\\site-packages\\plotly\\basedatatypes.py:832\u001b[0m, in \u001b[0;36mBaseFigure._ipython_display_\u001b[1;34m(self)\u001b[0m\n\u001b[0;32m    829\u001b[0m \u001b[38;5;28;01mimport\u001b[39;00m \u001b[38;5;21;01mplotly\u001b[39;00m\u001b[38;5;21;01m.\u001b[39;00m\u001b[38;5;21;01mio\u001b[39;00m \u001b[38;5;28;01mas\u001b[39;00m \u001b[38;5;21;01mpio\u001b[39;00m\n\u001b[0;32m    831\u001b[0m \u001b[38;5;28;01mif\u001b[39;00m pio\u001b[38;5;241m.\u001b[39mrenderers\u001b[38;5;241m.\u001b[39mrender_on_display \u001b[38;5;129;01mand\u001b[39;00m pio\u001b[38;5;241m.\u001b[39mrenderers\u001b[38;5;241m.\u001b[39mdefault:\n\u001b[1;32m--> 832\u001b[0m     \u001b[43mpio\u001b[49m\u001b[38;5;241;43m.\u001b[39;49m\u001b[43mshow\u001b[49m\u001b[43m(\u001b[49m\u001b[38;5;28;43mself\u001b[39;49m\u001b[43m)\u001b[49m\n\u001b[0;32m    833\u001b[0m \u001b[38;5;28;01melse\u001b[39;00m:\n\u001b[0;32m    834\u001b[0m     \u001b[38;5;28mprint\u001b[39m(\u001b[38;5;28mrepr\u001b[39m(\u001b[38;5;28mself\u001b[39m))\n",
      "File \u001b[1;32m~\\AppData\\Local\\Packages\\PythonSoftwareFoundation.Python.3.9_qbz5n2kfra8p0\\LocalCache\\local-packages\\Python39\\site-packages\\plotly\\io\\_renderers.py:394\u001b[0m, in \u001b[0;36mshow\u001b[1;34m(fig, renderer, validate, **kwargs)\u001b[0m\n\u001b[0;32m    389\u001b[0m         \u001b[38;5;28;01mraise\u001b[39;00m \u001b[38;5;167;01mValueError\u001b[39;00m(\n\u001b[0;32m    390\u001b[0m             \u001b[38;5;124m\"\u001b[39m\u001b[38;5;124mMime type rendering requires ipython but it is not installed\u001b[39m\u001b[38;5;124m\"\u001b[39m\n\u001b[0;32m    391\u001b[0m         )\n\u001b[0;32m    393\u001b[0m     \u001b[38;5;28;01mif\u001b[39;00m \u001b[38;5;129;01mnot\u001b[39;00m nbformat \u001b[38;5;129;01mor\u001b[39;00m Version(nbformat\u001b[38;5;241m.\u001b[39m__version__) \u001b[38;5;241m<\u001b[39m Version(\u001b[38;5;124m\"\u001b[39m\u001b[38;5;124m4.2.0\u001b[39m\u001b[38;5;124m\"\u001b[39m):\n\u001b[1;32m--> 394\u001b[0m         \u001b[38;5;28;01mraise\u001b[39;00m \u001b[38;5;167;01mValueError\u001b[39;00m(\n\u001b[0;32m    395\u001b[0m             \u001b[38;5;124m\"\u001b[39m\u001b[38;5;124mMime type rendering requires nbformat>=4.2.0 but it is not installed\u001b[39m\u001b[38;5;124m\"\u001b[39m\n\u001b[0;32m    396\u001b[0m         )\n\u001b[0;32m    398\u001b[0m     ipython_display\u001b[38;5;241m.\u001b[39mdisplay(bundle, raw\u001b[38;5;241m=\u001b[39m\u001b[38;5;28;01mTrue\u001b[39;00m)\n\u001b[0;32m    400\u001b[0m \u001b[38;5;66;03m# external renderers\u001b[39;00m\n",
      "\u001b[1;31mValueError\u001b[0m: Mime type rendering requires nbformat>=4.2.0 but it is not installed"
     ]
    },
    {
     "data": {
      "application/vnd.plotly.v1+json": {
       "config": {
        "plotlyServerURL": "https://plot.ly"
       },
       "data": [
        {
         "alignmentgroup": "True",
         "hovertemplate": "Month Name=%{x}<br>Amount=%{marker.color}<extra></extra>",
         "legendgroup": "",
         "marker": {
          "color": [
           646.25,
           2302.48,
           3962.25,
           97.15
          ],
          "coloraxis": "coloraxis",
          "pattern": {
           "shape": ""
          }
         },
         "name": "",
         "offsetgroup": "",
         "orientation": "v",
         "showlegend": false,
         "textposition": "auto",
         "texttemplate": "%{y:.2s}",
         "type": "bar",
         "x": [
          "May",
          "Jun",
          "Jul",
          "Aug"
         ],
         "xaxis": "x",
         "y": [
          646.25,
          2302.48,
          3962.25,
          97.15
         ],
         "yaxis": "y"
        }
       ],
       "layout": {
        "barmode": "relative",
        "coloraxis": {
         "colorbar": {
          "title": {
           "text": "Amount"
          }
         },
         "colorscale": [
          [
           0,
           "rgb(255,247,236)"
          ],
          [
           0.125,
           "rgb(254,232,200)"
          ],
          [
           0.25,
           "rgb(253,212,158)"
          ],
          [
           0.375,
           "rgb(253,187,132)"
          ],
          [
           0.5,
           "rgb(252,141,89)"
          ],
          [
           0.625,
           "rgb(239,101,72)"
          ],
          [
           0.75,
           "rgb(215,48,31)"
          ],
          [
           0.875,
           "rgb(179,0,0)"
          ],
          [
           1,
           "rgb(127,0,0)"
          ]
         ]
        },
        "legend": {
         "tracegroupgap": 0
        },
        "template": {
         "data": {
          "bar": [
           {
            "error_x": {
             "color": "#2a3f5f"
            },
            "error_y": {
             "color": "#2a3f5f"
            },
            "marker": {
             "line": {
              "color": "#E5ECF6",
              "width": 0.5
             },
             "pattern": {
              "fillmode": "overlay",
              "size": 10,
              "solidity": 0.2
             }
            },
            "type": "bar"
           }
          ],
          "barpolar": [
           {
            "marker": {
             "line": {
              "color": "#E5ECF6",
              "width": 0.5
             },
             "pattern": {
              "fillmode": "overlay",
              "size": 10,
              "solidity": 0.2
             }
            },
            "type": "barpolar"
           }
          ],
          "carpet": [
           {
            "aaxis": {
             "endlinecolor": "#2a3f5f",
             "gridcolor": "white",
             "linecolor": "white",
             "minorgridcolor": "white",
             "startlinecolor": "#2a3f5f"
            },
            "baxis": {
             "endlinecolor": "#2a3f5f",
             "gridcolor": "white",
             "linecolor": "white",
             "minorgridcolor": "white",
             "startlinecolor": "#2a3f5f"
            },
            "type": "carpet"
           }
          ],
          "choropleth": [
           {
            "colorbar": {
             "outlinewidth": 0,
             "ticks": ""
            },
            "type": "choropleth"
           }
          ],
          "contour": [
           {
            "colorbar": {
             "outlinewidth": 0,
             "ticks": ""
            },
            "colorscale": [
             [
              0,
              "#0d0887"
             ],
             [
              0.1111111111111111,
              "#46039f"
             ],
             [
              0.2222222222222222,
              "#7201a8"
             ],
             [
              0.3333333333333333,
              "#9c179e"
             ],
             [
              0.4444444444444444,
              "#bd3786"
             ],
             [
              0.5555555555555556,
              "#d8576b"
             ],
             [
              0.6666666666666666,
              "#ed7953"
             ],
             [
              0.7777777777777778,
              "#fb9f3a"
             ],
             [
              0.8888888888888888,
              "#fdca26"
             ],
             [
              1,
              "#f0f921"
             ]
            ],
            "type": "contour"
           }
          ],
          "contourcarpet": [
           {
            "colorbar": {
             "outlinewidth": 0,
             "ticks": ""
            },
            "type": "contourcarpet"
           }
          ],
          "heatmap": [
           {
            "colorbar": {
             "outlinewidth": 0,
             "ticks": ""
            },
            "colorscale": [
             [
              0,
              "#0d0887"
             ],
             [
              0.1111111111111111,
              "#46039f"
             ],
             [
              0.2222222222222222,
              "#7201a8"
             ],
             [
              0.3333333333333333,
              "#9c179e"
             ],
             [
              0.4444444444444444,
              "#bd3786"
             ],
             [
              0.5555555555555556,
              "#d8576b"
             ],
             [
              0.6666666666666666,
              "#ed7953"
             ],
             [
              0.7777777777777778,
              "#fb9f3a"
             ],
             [
              0.8888888888888888,
              "#fdca26"
             ],
             [
              1,
              "#f0f921"
             ]
            ],
            "type": "heatmap"
           }
          ],
          "heatmapgl": [
           {
            "colorbar": {
             "outlinewidth": 0,
             "ticks": ""
            },
            "colorscale": [
             [
              0,
              "#0d0887"
             ],
             [
              0.1111111111111111,
              "#46039f"
             ],
             [
              0.2222222222222222,
              "#7201a8"
             ],
             [
              0.3333333333333333,
              "#9c179e"
             ],
             [
              0.4444444444444444,
              "#bd3786"
             ],
             [
              0.5555555555555556,
              "#d8576b"
             ],
             [
              0.6666666666666666,
              "#ed7953"
             ],
             [
              0.7777777777777778,
              "#fb9f3a"
             ],
             [
              0.8888888888888888,
              "#fdca26"
             ],
             [
              1,
              "#f0f921"
             ]
            ],
            "type": "heatmapgl"
           }
          ],
          "histogram": [
           {
            "marker": {
             "pattern": {
              "fillmode": "overlay",
              "size": 10,
              "solidity": 0.2
             }
            },
            "type": "histogram"
           }
          ],
          "histogram2d": [
           {
            "colorbar": {
             "outlinewidth": 0,
             "ticks": ""
            },
            "colorscale": [
             [
              0,
              "#0d0887"
             ],
             [
              0.1111111111111111,
              "#46039f"
             ],
             [
              0.2222222222222222,
              "#7201a8"
             ],
             [
              0.3333333333333333,
              "#9c179e"
             ],
             [
              0.4444444444444444,
              "#bd3786"
             ],
             [
              0.5555555555555556,
              "#d8576b"
             ],
             [
              0.6666666666666666,
              "#ed7953"
             ],
             [
              0.7777777777777778,
              "#fb9f3a"
             ],
             [
              0.8888888888888888,
              "#fdca26"
             ],
             [
              1,
              "#f0f921"
             ]
            ],
            "type": "histogram2d"
           }
          ],
          "histogram2dcontour": [
           {
            "colorbar": {
             "outlinewidth": 0,
             "ticks": ""
            },
            "colorscale": [
             [
              0,
              "#0d0887"
             ],
             [
              0.1111111111111111,
              "#46039f"
             ],
             [
              0.2222222222222222,
              "#7201a8"
             ],
             [
              0.3333333333333333,
              "#9c179e"
             ],
             [
              0.4444444444444444,
              "#bd3786"
             ],
             [
              0.5555555555555556,
              "#d8576b"
             ],
             [
              0.6666666666666666,
              "#ed7953"
             ],
             [
              0.7777777777777778,
              "#fb9f3a"
             ],
             [
              0.8888888888888888,
              "#fdca26"
             ],
             [
              1,
              "#f0f921"
             ]
            ],
            "type": "histogram2dcontour"
           }
          ],
          "mesh3d": [
           {
            "colorbar": {
             "outlinewidth": 0,
             "ticks": ""
            },
            "type": "mesh3d"
           }
          ],
          "parcoords": [
           {
            "line": {
             "colorbar": {
              "outlinewidth": 0,
              "ticks": ""
             }
            },
            "type": "parcoords"
           }
          ],
          "pie": [
           {
            "automargin": true,
            "type": "pie"
           }
          ],
          "scatter": [
           {
            "fillpattern": {
             "fillmode": "overlay",
             "size": 10,
             "solidity": 0.2
            },
            "type": "scatter"
           }
          ],
          "scatter3d": [
           {
            "line": {
             "colorbar": {
              "outlinewidth": 0,
              "ticks": ""
             }
            },
            "marker": {
             "colorbar": {
              "outlinewidth": 0,
              "ticks": ""
             }
            },
            "type": "scatter3d"
           }
          ],
          "scattercarpet": [
           {
            "marker": {
             "colorbar": {
              "outlinewidth": 0,
              "ticks": ""
             }
            },
            "type": "scattercarpet"
           }
          ],
          "scattergeo": [
           {
            "marker": {
             "colorbar": {
              "outlinewidth": 0,
              "ticks": ""
             }
            },
            "type": "scattergeo"
           }
          ],
          "scattergl": [
           {
            "marker": {
             "colorbar": {
              "outlinewidth": 0,
              "ticks": ""
             }
            },
            "type": "scattergl"
           }
          ],
          "scattermapbox": [
           {
            "marker": {
             "colorbar": {
              "outlinewidth": 0,
              "ticks": ""
             }
            },
            "type": "scattermapbox"
           }
          ],
          "scatterpolar": [
           {
            "marker": {
             "colorbar": {
              "outlinewidth": 0,
              "ticks": ""
             }
            },
            "type": "scatterpolar"
           }
          ],
          "scatterpolargl": [
           {
            "marker": {
             "colorbar": {
              "outlinewidth": 0,
              "ticks": ""
             }
            },
            "type": "scatterpolargl"
           }
          ],
          "scatterternary": [
           {
            "marker": {
             "colorbar": {
              "outlinewidth": 0,
              "ticks": ""
             }
            },
            "type": "scatterternary"
           }
          ],
          "surface": [
           {
            "colorbar": {
             "outlinewidth": 0,
             "ticks": ""
            },
            "colorscale": [
             [
              0,
              "#0d0887"
             ],
             [
              0.1111111111111111,
              "#46039f"
             ],
             [
              0.2222222222222222,
              "#7201a8"
             ],
             [
              0.3333333333333333,
              "#9c179e"
             ],
             [
              0.4444444444444444,
              "#bd3786"
             ],
             [
              0.5555555555555556,
              "#d8576b"
             ],
             [
              0.6666666666666666,
              "#ed7953"
             ],
             [
              0.7777777777777778,
              "#fb9f3a"
             ],
             [
              0.8888888888888888,
              "#fdca26"
             ],
             [
              1,
              "#f0f921"
             ]
            ],
            "type": "surface"
           }
          ],
          "table": [
           {
            "cells": {
             "fill": {
              "color": "#EBF0F8"
             },
             "line": {
              "color": "white"
             }
            },
            "header": {
             "fill": {
              "color": "#C8D4E3"
             },
             "line": {
              "color": "white"
             }
            },
            "type": "table"
           }
          ]
         },
         "layout": {
          "annotationdefaults": {
           "arrowcolor": "#2a3f5f",
           "arrowhead": 0,
           "arrowwidth": 1
          },
          "autotypenumbers": "strict",
          "coloraxis": {
           "colorbar": {
            "outlinewidth": 0,
            "ticks": ""
           }
          },
          "colorscale": {
           "diverging": [
            [
             0,
             "#8e0152"
            ],
            [
             0.1,
             "#c51b7d"
            ],
            [
             0.2,
             "#de77ae"
            ],
            [
             0.3,
             "#f1b6da"
            ],
            [
             0.4,
             "#fde0ef"
            ],
            [
             0.5,
             "#f7f7f7"
            ],
            [
             0.6,
             "#e6f5d0"
            ],
            [
             0.7,
             "#b8e186"
            ],
            [
             0.8,
             "#7fbc41"
            ],
            [
             0.9,
             "#4d9221"
            ],
            [
             1,
             "#276419"
            ]
           ],
           "sequential": [
            [
             0,
             "#0d0887"
            ],
            [
             0.1111111111111111,
             "#46039f"
            ],
            [
             0.2222222222222222,
             "#7201a8"
            ],
            [
             0.3333333333333333,
             "#9c179e"
            ],
            [
             0.4444444444444444,
             "#bd3786"
            ],
            [
             0.5555555555555556,
             "#d8576b"
            ],
            [
             0.6666666666666666,
             "#ed7953"
            ],
            [
             0.7777777777777778,
             "#fb9f3a"
            ],
            [
             0.8888888888888888,
             "#fdca26"
            ],
            [
             1,
             "#f0f921"
            ]
           ],
           "sequentialminus": [
            [
             0,
             "#0d0887"
            ],
            [
             0.1111111111111111,
             "#46039f"
            ],
            [
             0.2222222222222222,
             "#7201a8"
            ],
            [
             0.3333333333333333,
             "#9c179e"
            ],
            [
             0.4444444444444444,
             "#bd3786"
            ],
            [
             0.5555555555555556,
             "#d8576b"
            ],
            [
             0.6666666666666666,
             "#ed7953"
            ],
            [
             0.7777777777777778,
             "#fb9f3a"
            ],
            [
             0.8888888888888888,
             "#fdca26"
            ],
            [
             1,
             "#f0f921"
            ]
           ]
          },
          "colorway": [
           "#636efa",
           "#EF553B",
           "#00cc96",
           "#ab63fa",
           "#FFA15A",
           "#19d3f3",
           "#FF6692",
           "#B6E880",
           "#FF97FF",
           "#FECB52"
          ],
          "font": {
           "color": "#2a3f5f"
          },
          "geo": {
           "bgcolor": "white",
           "lakecolor": "white",
           "landcolor": "#E5ECF6",
           "showlakes": true,
           "showland": true,
           "subunitcolor": "white"
          },
          "hoverlabel": {
           "align": "left"
          },
          "hovermode": "closest",
          "mapbox": {
           "style": "light"
          },
          "paper_bgcolor": "white",
          "plot_bgcolor": "#E5ECF6",
          "polar": {
           "angularaxis": {
            "gridcolor": "white",
            "linecolor": "white",
            "ticks": ""
           },
           "bgcolor": "#E5ECF6",
           "radialaxis": {
            "gridcolor": "white",
            "linecolor": "white",
            "ticks": ""
           }
          },
          "scene": {
           "xaxis": {
            "backgroundcolor": "#E5ECF6",
            "gridcolor": "white",
            "gridwidth": 2,
            "linecolor": "white",
            "showbackground": true,
            "ticks": "",
            "zerolinecolor": "white"
           },
           "yaxis": {
            "backgroundcolor": "#E5ECF6",
            "gridcolor": "white",
            "gridwidth": 2,
            "linecolor": "white",
            "showbackground": true,
            "ticks": "",
            "zerolinecolor": "white"
           },
           "zaxis": {
            "backgroundcolor": "#E5ECF6",
            "gridcolor": "white",
            "gridwidth": 2,
            "linecolor": "white",
            "showbackground": true,
            "ticks": "",
            "zerolinecolor": "white"
           }
          },
          "shapedefaults": {
           "line": {
            "color": "#2a3f5f"
           }
          },
          "ternary": {
           "aaxis": {
            "gridcolor": "white",
            "linecolor": "white",
            "ticks": ""
           },
           "baxis": {
            "gridcolor": "white",
            "linecolor": "white",
            "ticks": ""
           },
           "bgcolor": "#E5ECF6",
           "caxis": {
            "gridcolor": "white",
            "linecolor": "white",
            "ticks": ""
           }
          },
          "title": {
           "x": 0.05
          },
          "xaxis": {
           "automargin": true,
           "gridcolor": "white",
           "linecolor": "white",
           "ticks": "",
           "title": {
            "standoff": 15
           },
           "zerolinecolor": "white",
           "zerolinewidth": 2
          },
          "yaxis": {
           "automargin": true,
           "gridcolor": "white",
           "linecolor": "white",
           "ticks": "",
           "title": {
            "standoff": 15
           },
           "zerolinecolor": "white",
           "zerolinewidth": 2
          }
         }
        },
        "title": {
         "text": "Expense per month"
        },
        "xaxis": {
         "anchor": "y",
         "domain": [
          0,
          1
         ],
         "title": {
          "text": "Month Name"
         }
        },
        "yaxis": {
         "anchor": "x",
         "domain": [
          0,
          1
         ],
         "title": {
          "text": "Amount"
         }
        }
       }
      },
      "text/html": [
       "<div>                        <script type=\"text/javascript\">window.PlotlyConfig = {MathJaxConfig: 'local'};</script>\n",
       "        <script charset=\"utf-8\" src=\"https://cdn.plot.ly/plotly-2.34.0.min.js\"></script>                <div id=\"09bca001-e293-4622-a1ce-b24599ef1dc4\" class=\"plotly-graph-div\" style=\"height:100%; width:100%;\"></div>            <script type=\"text/javascript\">                                    window.PLOTLYENV=window.PLOTLYENV || {};                                    if (document.getElementById(\"09bca001-e293-4622-a1ce-b24599ef1dc4\")) {                    Plotly.newPlot(                        \"09bca001-e293-4622-a1ce-b24599ef1dc4\",                        [{\"alignmentgroup\":\"True\",\"hovertemplate\":\"Month Name=%{x}\\u003cbr\\u003eAmount=%{marker.color}\\u003cextra\\u003e\\u003c\\u002fextra\\u003e\",\"legendgroup\":\"\",\"marker\":{\"color\":[646.25,2302.48,3962.25,97.15],\"coloraxis\":\"coloraxis\",\"pattern\":{\"shape\":\"\"}},\"name\":\"\",\"offsetgroup\":\"\",\"orientation\":\"v\",\"showlegend\":false,\"textposition\":\"auto\",\"texttemplate\":\"%{y:.2s}\",\"x\":[\"May\",\"Jun\",\"Jul\",\"Aug\"],\"xaxis\":\"x\",\"y\":[646.25,2302.48,3962.25,97.15],\"yaxis\":\"y\",\"type\":\"bar\"}],                        {\"template\":{\"data\":{\"histogram2dcontour\":[{\"type\":\"histogram2dcontour\",\"colorbar\":{\"outlinewidth\":0,\"ticks\":\"\"},\"colorscale\":[[0.0,\"#0d0887\"],[0.1111111111111111,\"#46039f\"],[0.2222222222222222,\"#7201a8\"],[0.3333333333333333,\"#9c179e\"],[0.4444444444444444,\"#bd3786\"],[0.5555555555555556,\"#d8576b\"],[0.6666666666666666,\"#ed7953\"],[0.7777777777777778,\"#fb9f3a\"],[0.8888888888888888,\"#fdca26\"],[1.0,\"#f0f921\"]]}],\"choropleth\":[{\"type\":\"choropleth\",\"colorbar\":{\"outlinewidth\":0,\"ticks\":\"\"}}],\"histogram2d\":[{\"type\":\"histogram2d\",\"colorbar\":{\"outlinewidth\":0,\"ticks\":\"\"},\"colorscale\":[[0.0,\"#0d0887\"],[0.1111111111111111,\"#46039f\"],[0.2222222222222222,\"#7201a8\"],[0.3333333333333333,\"#9c179e\"],[0.4444444444444444,\"#bd3786\"],[0.5555555555555556,\"#d8576b\"],[0.6666666666666666,\"#ed7953\"],[0.7777777777777778,\"#fb9f3a\"],[0.8888888888888888,\"#fdca26\"],[1.0,\"#f0f921\"]]}],\"heatmap\":[{\"type\":\"heatmap\",\"colorbar\":{\"outlinewidth\":0,\"ticks\":\"\"},\"colorscale\":[[0.0,\"#0d0887\"],[0.1111111111111111,\"#46039f\"],[0.2222222222222222,\"#7201a8\"],[0.3333333333333333,\"#9c179e\"],[0.4444444444444444,\"#bd3786\"],[0.5555555555555556,\"#d8576b\"],[0.6666666666666666,\"#ed7953\"],[0.7777777777777778,\"#fb9f3a\"],[0.8888888888888888,\"#fdca26\"],[1.0,\"#f0f921\"]]}],\"heatmapgl\":[{\"type\":\"heatmapgl\",\"colorbar\":{\"outlinewidth\":0,\"ticks\":\"\"},\"colorscale\":[[0.0,\"#0d0887\"],[0.1111111111111111,\"#46039f\"],[0.2222222222222222,\"#7201a8\"],[0.3333333333333333,\"#9c179e\"],[0.4444444444444444,\"#bd3786\"],[0.5555555555555556,\"#d8576b\"],[0.6666666666666666,\"#ed7953\"],[0.7777777777777778,\"#fb9f3a\"],[0.8888888888888888,\"#fdca26\"],[1.0,\"#f0f921\"]]}],\"contourcarpet\":[{\"type\":\"contourcarpet\",\"colorbar\":{\"outlinewidth\":0,\"ticks\":\"\"}}],\"contour\":[{\"type\":\"contour\",\"colorbar\":{\"outlinewidth\":0,\"ticks\":\"\"},\"colorscale\":[[0.0,\"#0d0887\"],[0.1111111111111111,\"#46039f\"],[0.2222222222222222,\"#7201a8\"],[0.3333333333333333,\"#9c179e\"],[0.4444444444444444,\"#bd3786\"],[0.5555555555555556,\"#d8576b\"],[0.6666666666666666,\"#ed7953\"],[0.7777777777777778,\"#fb9f3a\"],[0.8888888888888888,\"#fdca26\"],[1.0,\"#f0f921\"]]}],\"surface\":[{\"type\":\"surface\",\"colorbar\":{\"outlinewidth\":0,\"ticks\":\"\"},\"colorscale\":[[0.0,\"#0d0887\"],[0.1111111111111111,\"#46039f\"],[0.2222222222222222,\"#7201a8\"],[0.3333333333333333,\"#9c179e\"],[0.4444444444444444,\"#bd3786\"],[0.5555555555555556,\"#d8576b\"],[0.6666666666666666,\"#ed7953\"],[0.7777777777777778,\"#fb9f3a\"],[0.8888888888888888,\"#fdca26\"],[1.0,\"#f0f921\"]]}],\"mesh3d\":[{\"type\":\"mesh3d\",\"colorbar\":{\"outlinewidth\":0,\"ticks\":\"\"}}],\"scatter\":[{\"fillpattern\":{\"fillmode\":\"overlay\",\"size\":10,\"solidity\":0.2},\"type\":\"scatter\"}],\"parcoords\":[{\"type\":\"parcoords\",\"line\":{\"colorbar\":{\"outlinewidth\":0,\"ticks\":\"\"}}}],\"scatterpolargl\":[{\"type\":\"scatterpolargl\",\"marker\":{\"colorbar\":{\"outlinewidth\":0,\"ticks\":\"\"}}}],\"bar\":[{\"error_x\":{\"color\":\"#2a3f5f\"},\"error_y\":{\"color\":\"#2a3f5f\"},\"marker\":{\"line\":{\"color\":\"#E5ECF6\",\"width\":0.5},\"pattern\":{\"fillmode\":\"overlay\",\"size\":10,\"solidity\":0.2}},\"type\":\"bar\"}],\"scattergeo\":[{\"type\":\"scattergeo\",\"marker\":{\"colorbar\":{\"outlinewidth\":0,\"ticks\":\"\"}}}],\"scatterpolar\":[{\"type\":\"scatterpolar\",\"marker\":{\"colorbar\":{\"outlinewidth\":0,\"ticks\":\"\"}}}],\"histogram\":[{\"marker\":{\"pattern\":{\"fillmode\":\"overlay\",\"size\":10,\"solidity\":0.2}},\"type\":\"histogram\"}],\"scattergl\":[{\"type\":\"scattergl\",\"marker\":{\"colorbar\":{\"outlinewidth\":0,\"ticks\":\"\"}}}],\"scatter3d\":[{\"type\":\"scatter3d\",\"line\":{\"colorbar\":{\"outlinewidth\":0,\"ticks\":\"\"}},\"marker\":{\"colorbar\":{\"outlinewidth\":0,\"ticks\":\"\"}}}],\"scattermapbox\":[{\"type\":\"scattermapbox\",\"marker\":{\"colorbar\":{\"outlinewidth\":0,\"ticks\":\"\"}}}],\"scatterternary\":[{\"type\":\"scatterternary\",\"marker\":{\"colorbar\":{\"outlinewidth\":0,\"ticks\":\"\"}}}],\"scattercarpet\":[{\"type\":\"scattercarpet\",\"marker\":{\"colorbar\":{\"outlinewidth\":0,\"ticks\":\"\"}}}],\"carpet\":[{\"aaxis\":{\"endlinecolor\":\"#2a3f5f\",\"gridcolor\":\"white\",\"linecolor\":\"white\",\"minorgridcolor\":\"white\",\"startlinecolor\":\"#2a3f5f\"},\"baxis\":{\"endlinecolor\":\"#2a3f5f\",\"gridcolor\":\"white\",\"linecolor\":\"white\",\"minorgridcolor\":\"white\",\"startlinecolor\":\"#2a3f5f\"},\"type\":\"carpet\"}],\"table\":[{\"cells\":{\"fill\":{\"color\":\"#EBF0F8\"},\"line\":{\"color\":\"white\"}},\"header\":{\"fill\":{\"color\":\"#C8D4E3\"},\"line\":{\"color\":\"white\"}},\"type\":\"table\"}],\"barpolar\":[{\"marker\":{\"line\":{\"color\":\"#E5ECF6\",\"width\":0.5},\"pattern\":{\"fillmode\":\"overlay\",\"size\":10,\"solidity\":0.2}},\"type\":\"barpolar\"}],\"pie\":[{\"automargin\":true,\"type\":\"pie\"}]},\"layout\":{\"autotypenumbers\":\"strict\",\"colorway\":[\"#636efa\",\"#EF553B\",\"#00cc96\",\"#ab63fa\",\"#FFA15A\",\"#19d3f3\",\"#FF6692\",\"#B6E880\",\"#FF97FF\",\"#FECB52\"],\"font\":{\"color\":\"#2a3f5f\"},\"hovermode\":\"closest\",\"hoverlabel\":{\"align\":\"left\"},\"paper_bgcolor\":\"white\",\"plot_bgcolor\":\"#E5ECF6\",\"polar\":{\"bgcolor\":\"#E5ECF6\",\"angularaxis\":{\"gridcolor\":\"white\",\"linecolor\":\"white\",\"ticks\":\"\"},\"radialaxis\":{\"gridcolor\":\"white\",\"linecolor\":\"white\",\"ticks\":\"\"}},\"ternary\":{\"bgcolor\":\"#E5ECF6\",\"aaxis\":{\"gridcolor\":\"white\",\"linecolor\":\"white\",\"ticks\":\"\"},\"baxis\":{\"gridcolor\":\"white\",\"linecolor\":\"white\",\"ticks\":\"\"},\"caxis\":{\"gridcolor\":\"white\",\"linecolor\":\"white\",\"ticks\":\"\"}},\"coloraxis\":{\"colorbar\":{\"outlinewidth\":0,\"ticks\":\"\"}},\"colorscale\":{\"sequential\":[[0.0,\"#0d0887\"],[0.1111111111111111,\"#46039f\"],[0.2222222222222222,\"#7201a8\"],[0.3333333333333333,\"#9c179e\"],[0.4444444444444444,\"#bd3786\"],[0.5555555555555556,\"#d8576b\"],[0.6666666666666666,\"#ed7953\"],[0.7777777777777778,\"#fb9f3a\"],[0.8888888888888888,\"#fdca26\"],[1.0,\"#f0f921\"]],\"sequentialminus\":[[0.0,\"#0d0887\"],[0.1111111111111111,\"#46039f\"],[0.2222222222222222,\"#7201a8\"],[0.3333333333333333,\"#9c179e\"],[0.4444444444444444,\"#bd3786\"],[0.5555555555555556,\"#d8576b\"],[0.6666666666666666,\"#ed7953\"],[0.7777777777777778,\"#fb9f3a\"],[0.8888888888888888,\"#fdca26\"],[1.0,\"#f0f921\"]],\"diverging\":[[0,\"#8e0152\"],[0.1,\"#c51b7d\"],[0.2,\"#de77ae\"],[0.3,\"#f1b6da\"],[0.4,\"#fde0ef\"],[0.5,\"#f7f7f7\"],[0.6,\"#e6f5d0\"],[0.7,\"#b8e186\"],[0.8,\"#7fbc41\"],[0.9,\"#4d9221\"],[1,\"#276419\"]]},\"xaxis\":{\"gridcolor\":\"white\",\"linecolor\":\"white\",\"ticks\":\"\",\"title\":{\"standoff\":15},\"zerolinecolor\":\"white\",\"automargin\":true,\"zerolinewidth\":2},\"yaxis\":{\"gridcolor\":\"white\",\"linecolor\":\"white\",\"ticks\":\"\",\"title\":{\"standoff\":15},\"zerolinecolor\":\"white\",\"automargin\":true,\"zerolinewidth\":2},\"scene\":{\"xaxis\":{\"backgroundcolor\":\"#E5ECF6\",\"gridcolor\":\"white\",\"linecolor\":\"white\",\"showbackground\":true,\"ticks\":\"\",\"zerolinecolor\":\"white\",\"gridwidth\":2},\"yaxis\":{\"backgroundcolor\":\"#E5ECF6\",\"gridcolor\":\"white\",\"linecolor\":\"white\",\"showbackground\":true,\"ticks\":\"\",\"zerolinecolor\":\"white\",\"gridwidth\":2},\"zaxis\":{\"backgroundcolor\":\"#E5ECF6\",\"gridcolor\":\"white\",\"linecolor\":\"white\",\"showbackground\":true,\"ticks\":\"\",\"zerolinecolor\":\"white\",\"gridwidth\":2}},\"shapedefaults\":{\"line\":{\"color\":\"#2a3f5f\"}},\"annotationdefaults\":{\"arrowcolor\":\"#2a3f5f\",\"arrowhead\":0,\"arrowwidth\":1},\"geo\":{\"bgcolor\":\"white\",\"landcolor\":\"#E5ECF6\",\"subunitcolor\":\"white\",\"showland\":true,\"showlakes\":true,\"lakecolor\":\"white\"},\"title\":{\"x\":0.05},\"mapbox\":{\"style\":\"light\"}}},\"xaxis\":{\"anchor\":\"y\",\"domain\":[0.0,1.0],\"title\":{\"text\":\"Month Name\"}},\"yaxis\":{\"anchor\":\"x\",\"domain\":[0.0,1.0],\"title\":{\"text\":\"Amount\"}},\"coloraxis\":{\"colorbar\":{\"title\":{\"text\":\"Amount\"}},\"colorscale\":[[0.0,\"rgb(255,247,236)\"],[0.125,\"rgb(254,232,200)\"],[0.25,\"rgb(253,212,158)\"],[0.375,\"rgb(253,187,132)\"],[0.5,\"rgb(252,141,89)\"],[0.625,\"rgb(239,101,72)\"],[0.75,\"rgb(215,48,31)\"],[0.875,\"rgb(179,0,0)\"],[1.0,\"rgb(127,0,0)\"]]},\"legend\":{\"tracegroupgap\":0},\"title\":{\"text\":\"Expense per month\"},\"barmode\":\"relative\"},                        {\"responsive\": true}                    )                };                            </script>        </div>"
      ],
      "text/plain": [
       "Figure({\n",
       "    'data': [{'alignmentgroup': 'True',\n",
       "              'hovertemplate': 'Month Name=%{x}<br>Amount=%{marker.color}<extra></extra>',\n",
       "              'legendgroup': '',\n",
       "              'marker': {'color': array([ 646.25, 2302.48, 3962.25,   97.15]),\n",
       "                         'coloraxis': 'coloraxis',\n",
       "                         'pattern': {'shape': ''}},\n",
       "              'name': '',\n",
       "              'offsetgroup': '',\n",
       "              'orientation': 'v',\n",
       "              'showlegend': False,\n",
       "              'textposition': 'auto',\n",
       "              'texttemplate': '%{y:.2s}',\n",
       "              'type': 'bar',\n",
       "              'x': array(['May', 'Jun', 'Jul', 'Aug'], dtype=object),\n",
       "              'xaxis': 'x',\n",
       "              'y': array([ 646.25, 2302.48, 3962.25,   97.15]),\n",
       "              'yaxis': 'y'}],\n",
       "    'layout': {'barmode': 'relative',\n",
       "               'coloraxis': {'colorbar': {'title': {'text': 'Amount'}},\n",
       "                             'colorscale': [[0.0, 'rgb(255,247,236)'], [0.125,\n",
       "                                            'rgb(254,232,200)'], [0.25,\n",
       "                                            'rgb(253,212,158)'], [0.375,\n",
       "                                            'rgb(253,187,132)'], [0.5,\n",
       "                                            'rgb(252,141,89)'], [0.625,\n",
       "                                            'rgb(239,101,72)'], [0.75,\n",
       "                                            'rgb(215,48,31)'], [0.875,\n",
       "                                            'rgb(179,0,0)'], [1.0, 'rgb(127,0,0)']]},\n",
       "               'legend': {'tracegroupgap': 0},\n",
       "               'template': '...',\n",
       "               'title': {'text': 'Expense per month'},\n",
       "               'xaxis': {'anchor': 'y', 'domain': [0.0, 1.0], 'title': {'text': 'Month Name'}},\n",
       "               'yaxis': {'anchor': 'x', 'domain': [0.0, 1.0], 'title': {'text': 'Amount'}}}\n",
       "})"
      ]
     },
     "execution_count": 26,
     "metadata": {},
     "output_type": "execute_result"
    }
   ],
   "source": [
    "expense_monthly_2024 = make_monthly_bar_chart(df, 2024, 'Expense')\n",
    "expense_monthly_2024"
   ]
  },
  {
   "cell_type": "code",
   "execution_count": 27,
   "metadata": {},
   "outputs": [
    {
     "name": "stdout",
     "output_type": "stream",
     "text": [
      "Launching server at http://localhost:52163\n"
     ]
    },
    {
     "data": {
      "text/plain": [
       "<panel.io.server.Server at 0x19699cf8b50>"
      ]
     },
     "execution_count": 27,
     "metadata": {},
     "output_type": "execute_result"
    }
   ],
   "source": [
    "# Creating the charts\n",
    "expense_pie_fig_2024 = make_pie_chart(df, 2024, 'Expense')\n",
    "expense_monthly_2024 = make_monthly_bar_chart(df, 2024, 'Expense')\n",
    "\n",
    "# Create tabs\n",
    "tabs = pn.Tabs(\n",
    "    ('2024', pn.Column(pn.Row(expense_monthly_2024, expense_pie_fig_2024)))\n",
    ")\n",
    "\n",
    "# Display the tabs\n",
    "tabs.show()"
   ]
  }
 ],
 "metadata": {
  "kernelspec": {
   "display_name": "Python 3",
   "language": "python",
   "name": "python3"
  },
  "language_info": {
   "codemirror_mode": {
    "name": "ipython",
    "version": 3
   },
   "file_extension": ".py",
   "mimetype": "text/x-python",
   "name": "python",
   "nbconvert_exporter": "python",
   "pygments_lexer": "ipython3",
   "version": "3.9.13"
  }
 },
 "nbformat": 4,
 "nbformat_minor": 2
}
